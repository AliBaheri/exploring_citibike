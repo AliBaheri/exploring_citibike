{
 "cells": [
  {
   "cell_type": "markdown",
   "metadata": {},
   "source": [
    "# Exploring NYC's CitiBike data"
   ]
  },
  {
   "cell_type": "markdown",
   "metadata": {},
   "source": [
    "#### November 2015\n",
    "The article/blog post about this analysis can be found [here]().\n",
    "\n",
    "## Table of Contents\n",
    "* [Introduction](#Introduction)\n",
    "* [Methods](#Methods)\n",
    "* [Getting the data](#Getting_the_data)\n",
    "* [Analysis](#Analysis)\n",
    "    1. [Temporal patterns of citibike use](#Temporal_patterns)\n",
    "    2. [Map trip count and duration according to start station](#Map_start)\n",
    "    3. [Map trip count and duration according to end station](#Map_end)\n",
    "    4. [Hourly changes in start station (video)](#Gif_start)"
   ]
  },
  {
   "cell_type": "markdown",
   "metadata": {},
   "source": [
    "<a id='Introduction'></a>\n",
    "## Introduction\n",
    "\n",
    "CitiBike's data sharing information can be found at their [System Data website](https://www.citibikenyc.com/system-data). They provide information about the data set, such as included variables and their description. The data have been pre-cleaned before uploading, for example by removing trips taken by staff and any trips below 60 seconds in length. This means the data should be ready to use with no need for additional cleaning.\n",
    "\n",
    "The data are organized in monthly subsets (each in its own '.csv' file) and are available since July 2013, soon after citibike service started, up until October 2015 (previous month, as of this writing). Using data from one whole year is probably the most appropriate, as there may be yearly patterns. Also, this will provide a good amount of observations, enough for most analysis we may want to do. For this exercise I will thus use all 2014 data, as this is the only full year available so far.\n",
    "\n",
    "The data are hosted on and can be downloaded from Amazon Simple Storage Service (Amazon S3)."
   ]
  },
  {
   "cell_type": "markdown",
   "metadata": {},
   "source": [
    "<a id='Methods'></a>\n",
    "## Methods\n",
    "\n",
    "This data analysis was made on a MacBook Pro laptop. Besides the shell (Bash), I used the following tools in [Python](https://www.python.org/):\n",
    "\n",
    "* [Pandas](http://pandas.pydata.org/) for the data analysis.\n",
    "* [Folium](http://folium.readthedocs.org/en/latest/) for mapping the data.\n",
    "\n",
    "To generate the video of the dynamic visualization of the transitions between citibike station use accross the different hours of the day I used Apple's iMovie."
   ]
  },
  {
   "cell_type": "markdown",
   "metadata": {},
   "source": [
    "<a id='Getting_the_data'></a>\n",
    "## Getting the data\n",
    "\n",
    "I will use the shell (bash in this case) to get the data. Download the files using `curl` and then unzip them and remove the zipped versions."
   ]
  },
  {
   "cell_type": "code",
   "execution_count": 13,
   "metadata": {
    "collapsed": false
   },
   "outputs": [
    {
     "name": "stdout",
     "output_type": "stream",
     "text": [
      "\n",
      "[1/12]: https://s3.amazonaws.com/tripdata/201401-citibike-tripdata.zip --> 201401-citibike-tripdata.zip\n",
      "--_curl_--https://s3.amazonaws.com/tripdata/201401-citibike-tripdata.zip\n",
      "  % Total    % Received % Xferd  Average Speed   Time    Time     Time  Current\n",
      "                                 Dload  Upload   Total   Spent    Left  Speed\n",
      "100 9470k  100 9470k    0     0  20.1M      0 --:--:-- --:--:-- --:--:-- 20.2M\n",
      "\n",
      "[2/12]: https://s3.amazonaws.com/tripdata/201402-citibike-tripdata.zip --> 201402-citibike-tripdata.zip\n",
      "--_curl_--https://s3.amazonaws.com/tripdata/201402-citibike-tripdata.zip\n",
      "100 7076k  100 7076k    0     0  41.3M      0 --:--:-- --:--:-- --:--:-- 41.3M\n",
      "\n",
      "[3/12]: https://s3.amazonaws.com/tripdata/201403-citibike-tripdata.zip --> 201403-citibike-tripdata.zip\n",
      "--_curl_--https://s3.amazonaws.com/tripdata/201403-citibike-tripdata.zip\n",
      "100 13.4M  100 13.4M    0     0  61.8M      0 --:--:-- --:--:-- --:--:-- 61.8M\n",
      "\n",
      "[4/12]: https://s3.amazonaws.com/tripdata/201404-citibike-tripdata.zip --> 201404-citibike-tripdata.zip\n",
      "--_curl_--https://s3.amazonaws.com/tripdata/201404-citibike-tripdata.zip\n",
      "100 20.4M  100 20.4M    0     0  59.9M      0 --:--:-- --:--:-- --:--:-- 88.4M\n",
      "\n",
      "[5/12]: https://s3.amazonaws.com/tripdata/201405-citibike-tripdata.zip --> 201405-citibike-tripdata.zip\n",
      "--_curl_--https://s3.amazonaws.com/tripdata/201405-citibike-tripdata.zip\n",
      "100 26.3M  100 26.3M    0     0  66.7M      0 --:--:-- --:--:-- --:--:-- 66.7M\n",
      "\n",
      "[6/12]: https://s3.amazonaws.com/tripdata/201406-citibike-tripdata.zip --> 201406-citibike-tripdata.zip\n",
      "--_curl_--https://s3.amazonaws.com/tripdata/201406-citibike-tripdata.zip\n",
      "100 28.5M  100 28.5M    0     0  46.3M      0 --:--:-- --:--:-- --:--:-- 36.1M\n",
      "\n",
      "[7/12]: https://s3.amazonaws.com/tripdata/201407-citibike-tripdata.zip --> 201407-citibike-tripdata.zip\n",
      "--_curl_--https://s3.amazonaws.com/tripdata/201407-citibike-tripdata.zip\n",
      "100 29.4M  100 29.4M    0     0  66.1M      0 --:--:-- --:--:-- --:--:-- 66.1M\n",
      "\n",
      "[8/12]: https://s3.amazonaws.com/tripdata/201408-citibike-tripdata.zip --> 201408-citibike-tripdata.zip\n",
      "--_curl_--https://s3.amazonaws.com/tripdata/201408-citibike-tripdata.zip\n",
      "100 29.2M  100 29.2M    0     0  49.1M      0 --:--:-- --:--:-- --:--:-- 59.2M\n",
      "\n",
      "[9/12]: https://s3.amazonaws.com/tripdata/201409-citibike-tripdata.zip --> 201409-citibike-tripdata.zip\n",
      "--_curl_--https://s3.amazonaws.com/tripdata/201409-citibike-tripdata.zip\n",
      "100 28.8M  100 28.8M    0     0  65.7M      0 --:--:-- --:--:-- --:--:-- 65.7M\n",
      "\n",
      "[10/12]: https://s3.amazonaws.com/tripdata/201410-citibike-tripdata.zip --> 201410-citibike-tripdata.zip\n",
      "--_curl_--https://s3.amazonaws.com/tripdata/201410-citibike-tripdata.zip\n",
      "100 24.9M  100 24.9M    0     0  69.5M      0 --:--:-- --:--:-- --:--:-- 88.0M\n",
      "\n",
      "[11/12]: https://s3.amazonaws.com/tripdata/201411-citibike-tripdata.zip --> 201411-citibike-tripdata.zip\n",
      "--_curl_--https://s3.amazonaws.com/tripdata/201411-citibike-tripdata.zip\n",
      "100 16.0M  100 16.0M    0     0  54.1M      0 --:--:-- --:--:-- --:--:-- 54.1M\n",
      "\n",
      "[12/12]: https://s3.amazonaws.com/tripdata/201412-citibike-tripdata.zip --> 201412-citibike-tripdata.zip\n",
      "--_curl_--https://s3.amazonaws.com/tripdata/201412-citibike-tripdata.zip\n",
      "100 12.1M  100 12.1M    0     0  29.1M      0 --:--:-- --:--:-- --:--:-- 84.1M\n",
      "Archive:  201401-citibike-tripdata.zip\n",
      "  inflating: 2014-01 - Citi Bike trip data.csv  \n",
      "\n",
      "Archive:  201402-citibike-tripdata.zip\n",
      "  inflating: 2014-02 - Citi Bike trip data.csv  \n",
      "\n",
      "Archive:  201403-citibike-tripdata.zip\n",
      "  inflating: 2014-03 - Citi Bike trip data.csv  \n",
      "\n",
      "Archive:  201404-citibike-tripdata.zip\n",
      "  inflating: 2014-04 - Citi Bike trip data.csv  \n",
      "\n",
      "Archive:  201405-citibike-tripdata.zip\n",
      "  inflating: 2014-05 - Citi Bike trip data.csv  \n",
      "\n",
      "Archive:  201406-citibike-tripdata.zip\n",
      "  inflating: 2014-06 - Citi Bike trip data.csv  \n",
      "\n",
      "Archive:  201407-citibike-tripdata.zip\n",
      "  inflating: 2014-07 - Citi Bike trip data.csv  \n",
      "\n",
      "Archive:  201408-citibike-tripdata.zip\n",
      "  inflating: 2014-08 - Citi Bike trip data.csv  \n",
      "\n",
      "Archive:  201409-citibike-tripdata.zip\n",
      "  inflating: 201409-citibike-tripdata.csv  \n",
      "\n",
      "Archive:  201410-citibike-tripdata.zip\n",
      "  inflating: 201410-citibike-tripdata.csv  \n",
      "\n",
      "Archive:  201411-citibike-tripdata.zip\n",
      "  inflating: 201411-citibike-tripdata.csv  \n",
      "\n",
      "Archive:  201412-citibike-tripdata.zip\n",
      "  inflating: 201412-citibike-tripdata.csv  \n",
      "\n",
      "12 archives were successfully processed.\n"
     ]
    }
   ],
   "source": [
    "# Add `!` preceding the command to run shell commands\n",
    "# Curl accepts ranges\n",
    "!curl -O \"https://s3.amazonaws.com/tripdata/2014[01-12]-citibike-tripdata.zip\"\n",
    "!unzip '*.zip'\n",
    "!rm *.zip"
   ]
  },
  {
   "cell_type": "markdown",
   "metadata": {},
   "source": [
    "The next step is to load the data with Pandas. I will use a `for loop` to read all 12 csv files into a list of Pandas *DataFrames*."
   ]
  },
  {
   "cell_type": "code",
   "execution_count": 14,
   "metadata": {
    "collapsed": true
   },
   "outputs": [],
   "source": [
    "# Get file names\n",
    "import glob\n",
    "filenames = glob.glob('*.csv')"
   ]
  },
  {
   "cell_type": "code",
   "execution_count": 15,
   "metadata": {
    "collapsed": false
   },
   "outputs": [
    {
     "name": "stdout",
     "output_type": "stream",
     "text": [
      "Reading 2014-01 - Citi Bike trip data.csv\n",
      "Reading 2014-02 - Citi Bike trip data.csv\n",
      "Reading 2014-03 - Citi Bike trip data.csv\n",
      "Reading 2014-04 - Citi Bike trip data.csv\n",
      "Reading 2014-05 - Citi Bike trip data.csv\n",
      "Reading 2014-06 - Citi Bike trip data.csv\n",
      "Reading 2014-07 - Citi Bike trip data.csv\n",
      "Reading 2014-08 - Citi Bike trip data.csv\n",
      "Reading 201409-citibike-tripdata.csv\n",
      "Reading 201410-citibike-tripdata.csv\n",
      "Reading 201411-citibike-tripdata.csv\n",
      "Reading 201412-citibike-tripdata.csv\n"
     ]
    }
   ],
   "source": [
    "import pandas as pd\n",
    "# Loop through file names and read the data\n",
    "dfs = []\n",
    "for file in filenames:\n",
    "    print('Reading ' + file)\n",
    "    dfs.append(pd.read_csv(file))"
   ]
  },
  {
   "cell_type": "code",
   "execution_count": 16,
   "metadata": {
    "collapsed": true
   },
   "outputs": [],
   "source": [
    "# Remove .csv files as we no longer need them\n",
    "!rm *.csv"
   ]
  },
  {
   "cell_type": "markdown",
   "metadata": {},
   "source": [
    "The file naming structure changes from September on. Hopefully, that's all that changes between the data sets. This is not a good sign, though, as it may indicate other changes in the data. It is definitely worth it to take a more in-depth look."
   ]
  },
  {
   "cell_type": "code",
   "execution_count": 17,
   "metadata": {
    "collapsed": false
   },
   "outputs": [
    {
     "data": {
      "text/html": [
       "<div>\n",
       "<table border=\"1\" class=\"dataframe\">\n",
       "  <thead>\n",
       "    <tr style=\"text-align: right;\">\n",
       "      <th></th>\n",
       "      <th>tripduration</th>\n",
       "      <th>starttime</th>\n",
       "      <th>stoptime</th>\n",
       "      <th>start station id</th>\n",
       "      <th>start station name</th>\n",
       "      <th>start station latitude</th>\n",
       "      <th>start station longitude</th>\n",
       "      <th>end station id</th>\n",
       "      <th>end station name</th>\n",
       "      <th>end station latitude</th>\n",
       "      <th>end station longitude</th>\n",
       "      <th>bikeid</th>\n",
       "      <th>usertype</th>\n",
       "      <th>birth year</th>\n",
       "      <th>gender</th>\n",
       "    </tr>\n",
       "  </thead>\n",
       "  <tbody>\n",
       "    <tr>\n",
       "      <th>0</th>\n",
       "      <td>1142</td>\n",
       "      <td>2014-08-01 00:00:04</td>\n",
       "      <td>2014-08-01 00:19:06</td>\n",
       "      <td>470</td>\n",
       "      <td>W 20 St &amp; 8 Ave</td>\n",
       "      <td>40.743453</td>\n",
       "      <td>-74.00004</td>\n",
       "      <td>312</td>\n",
       "      <td>Allen St &amp; E Houston St</td>\n",
       "      <td>40.722055</td>\n",
       "      <td>-73.989111</td>\n",
       "      <td>19117</td>\n",
       "      <td>Subscriber</td>\n",
       "      <td>1969</td>\n",
       "      <td>1</td>\n",
       "    </tr>\n",
       "    <tr>\n",
       "      <th>1</th>\n",
       "      <td>117</td>\n",
       "      <td>2014-08-01 00:00:05</td>\n",
       "      <td>2014-08-01 00:02:02</td>\n",
       "      <td>236</td>\n",
       "      <td>St Marks Pl &amp; 2 Ave</td>\n",
       "      <td>40.728419</td>\n",
       "      <td>-73.98714</td>\n",
       "      <td>432</td>\n",
       "      <td>E 7 St &amp; Avenue A</td>\n",
       "      <td>40.726218</td>\n",
       "      <td>-73.983799</td>\n",
       "      <td>20549</td>\n",
       "      <td>Subscriber</td>\n",
       "      <td>1991</td>\n",
       "      <td>1</td>\n",
       "    </tr>\n",
       "  </tbody>\n",
       "</table>\n",
       "</div>"
      ],
      "text/plain": [
       "   tripduration            starttime             stoptime  start station id  \\\n",
       "0          1142  2014-08-01 00:00:04  2014-08-01 00:19:06               470   \n",
       "1           117  2014-08-01 00:00:05  2014-08-01 00:02:02               236   \n",
       "\n",
       "    start station name  start station latitude  start station longitude  \\\n",
       "0      W 20 St & 8 Ave               40.743453                -74.00004   \n",
       "1  St Marks Pl & 2 Ave               40.728419                -73.98714   \n",
       "\n",
       "   end station id         end station name  end station latitude  \\\n",
       "0             312  Allen St & E Houston St             40.722055   \n",
       "1             432        E 7 St & Avenue A             40.726218   \n",
       "\n",
       "   end station longitude  bikeid    usertype birth year  gender  \n",
       "0             -73.989111   19117  Subscriber       1969       1  \n",
       "1             -73.983799   20549  Subscriber       1991       1  "
      ]
     },
     "execution_count": 17,
     "metadata": {},
     "output_type": "execute_result"
    }
   ],
   "source": [
    "dfs[7].head(2) # Check August"
   ]
  },
  {
   "cell_type": "code",
   "execution_count": 21,
   "metadata": {
    "collapsed": false
   },
   "outputs": [
    {
     "data": {
      "text/html": [
       "<div>\n",
       "<table border=\"1\" class=\"dataframe\">\n",
       "  <thead>\n",
       "    <tr style=\"text-align: right;\">\n",
       "      <th></th>\n",
       "      <th>tripduration</th>\n",
       "      <th>starttime</th>\n",
       "      <th>stoptime</th>\n",
       "      <th>start station id</th>\n",
       "      <th>start station name</th>\n",
       "      <th>start station latitude</th>\n",
       "      <th>start station longitude</th>\n",
       "      <th>end station id</th>\n",
       "      <th>end station name</th>\n",
       "      <th>end station latitude</th>\n",
       "      <th>end station longitude</th>\n",
       "      <th>bikeid</th>\n",
       "      <th>usertype</th>\n",
       "      <th>birth year</th>\n",
       "      <th>gender</th>\n",
       "    </tr>\n",
       "  </thead>\n",
       "  <tbody>\n",
       "    <tr>\n",
       "      <th>0</th>\n",
       "      <td>2828</td>\n",
       "      <td>9/1/2014 00:00:25</td>\n",
       "      <td>9/1/2014 00:47:33</td>\n",
       "      <td>386</td>\n",
       "      <td>Centre St &amp; Worth St</td>\n",
       "      <td>40.714948</td>\n",
       "      <td>-74.002345</td>\n",
       "      <td>450</td>\n",
       "      <td>W 49 St &amp; 8 Ave</td>\n",
       "      <td>40.762272</td>\n",
       "      <td>-73.987882</td>\n",
       "      <td>15941</td>\n",
       "      <td>Subscriber</td>\n",
       "      <td>1980</td>\n",
       "      <td>1</td>\n",
       "    </tr>\n",
       "    <tr>\n",
       "      <th>1</th>\n",
       "      <td>368</td>\n",
       "      <td>9/1/2014 00:00:28</td>\n",
       "      <td>9/1/2014 00:06:36</td>\n",
       "      <td>387</td>\n",
       "      <td>Centre St &amp; Chambers St</td>\n",
       "      <td>40.712733</td>\n",
       "      <td>-74.004607</td>\n",
       "      <td>2008</td>\n",
       "      <td>Little West St &amp; 1 Pl</td>\n",
       "      <td>40.705693</td>\n",
       "      <td>-74.016777</td>\n",
       "      <td>18962</td>\n",
       "      <td>Subscriber</td>\n",
       "      <td>1982</td>\n",
       "      <td>1</td>\n",
       "    </tr>\n",
       "  </tbody>\n",
       "</table>\n",
       "</div>"
      ],
      "text/plain": [
       "   tripduration          starttime           stoptime  start station id  \\\n",
       "0          2828  9/1/2014 00:00:25  9/1/2014 00:47:33               386   \n",
       "1           368  9/1/2014 00:00:28  9/1/2014 00:06:36               387   \n",
       "\n",
       "        start station name  start station latitude  start station longitude  \\\n",
       "0     Centre St & Worth St               40.714948               -74.002345   \n",
       "1  Centre St & Chambers St               40.712733               -74.004607   \n",
       "\n",
       "   end station id       end station name  end station latitude  \\\n",
       "0             450        W 49 St & 8 Ave             40.762272   \n",
       "1            2008  Little West St & 1 Pl             40.705693   \n",
       "\n",
       "   end station longitude  bikeid    usertype  birth year  gender  \n",
       "0             -73.987882   15941  Subscriber        1980       1  \n",
       "1             -74.016777   18962  Subscriber        1982       1  "
      ]
     },
     "execution_count": 21,
     "metadata": {},
     "output_type": "execute_result"
    }
   ],
   "source": [
    "dfs[8].head(2)  # Check September"
   ]
  },
  {
   "cell_type": "markdown",
   "metadata": {},
   "source": [
    "Indeed, there's an important format difference: the `starttime` and `stoptime` variables use different string formats. This will be important later on as we use these timestamps for the analyses.\n",
    "\n",
    "There are several ways we can fix this. The most convenient way to use time series data is to convert it to the appropriate data type (pandas uses NumPy's `datetime64`). I will use the function `to_datetime` to do this. `to_datetime` is very flexible and will recognize a wide variety of string formats. We can also use the `format` argument to give it information about the format, which can make it faster. In this case, I will use that only from September on, when the format changes. A little `for loop` will help save some typing."
   ]
  },
  {
   "cell_type": "code",
   "execution_count": 22,
   "metadata": {
    "collapsed": false
   },
   "outputs": [
    {
     "name": "stdout",
     "output_type": "stream",
     "text": [
      "Converting month:\n",
      "... 1\n",
      "... 2\n",
      "... 3\n",
      "... 4\n",
      "... 5\n",
      "... 6\n",
      "... 7\n",
      "... 8\n",
      "... 9\n",
      "... 10\n",
      "... 11\n",
      "... 12\n"
     ]
    }
   ],
   "source": [
    "print('Converting month:')\n",
    "for month in range(12):\n",
    "    if month < 8:\n",
    "        print('... ' + str(month + 1))\n",
    "        dfs[month]['starttime'] = pd.to_datetime(dfs[month]['starttime'])\n",
    "        dfs[month]['stoptime'] = pd.to_datetime(dfs[month]['stoptime'])\n",
    "    else:\n",
    "        print('... ' + str(month + 1))\n",
    "        dfs[month]['starttime'] = pd.to_datetime(dfs[month]['starttime'],\n",
    "                                                 format = '%m/%d/%Y %H:%M:%S')\n",
    "        dfs[month]['stoptime'] = pd.to_datetime(dfs[month]['stoptime'],\n",
    "                                                format = '%m/%d/%Y %H:%M:%S')"
   ]
  },
  {
   "cell_type": "code",
   "execution_count": 14,
   "metadata": {
    "collapsed": false
   },
   "outputs": [
    {
     "data": {
      "text/plain": [
       "tripduration                        int64\n",
       "starttime                  datetime64[ns]\n",
       "stoptime                   datetime64[ns]\n",
       "start station id                    int64\n",
       "start station name                 object\n",
       "start station latitude            float64\n",
       "start station longitude           float64\n",
       "end station id                      int64\n",
       "end station name                   object\n",
       "end station latitude              float64\n",
       "end station longitude             float64\n",
       "bikeid                              int64\n",
       "usertype                           object\n",
       "birth year                        float64\n",
       "gender                              int64\n",
       "dtype: object"
      ]
     },
     "execution_count": 14,
     "metadata": {},
     "output_type": "execute_result"
    }
   ],
   "source": [
    "# Confirm that the data type for the two variables is now datetime64\n",
    "dfs[8].dtypes"
   ]
  },
  {
   "cell_type": "code",
   "execution_count": 23,
   "metadata": {
    "collapsed": false
   },
   "outputs": [
    {
     "data": {
      "text/html": [
       "<div>\n",
       "<table border=\"1\" class=\"dataframe\">\n",
       "  <thead>\n",
       "    <tr style=\"text-align: right;\">\n",
       "      <th></th>\n",
       "      <th>tripduration</th>\n",
       "      <th>starttime</th>\n",
       "      <th>stoptime</th>\n",
       "      <th>start station id</th>\n",
       "      <th>start station name</th>\n",
       "      <th>start station latitude</th>\n",
       "      <th>start station longitude</th>\n",
       "      <th>end station id</th>\n",
       "      <th>end station name</th>\n",
       "      <th>end station latitude</th>\n",
       "      <th>end station longitude</th>\n",
       "      <th>bikeid</th>\n",
       "      <th>usertype</th>\n",
       "      <th>birth year</th>\n",
       "      <th>gender</th>\n",
       "    </tr>\n",
       "  </thead>\n",
       "  <tbody>\n",
       "    <tr>\n",
       "      <th>953885</th>\n",
       "      <td>439</td>\n",
       "      <td>2014-09-30 23:59:58</td>\n",
       "      <td>2014-10-01 00:07:17</td>\n",
       "      <td>479</td>\n",
       "      <td>9 Ave &amp; W 45 St</td>\n",
       "      <td>40.760193</td>\n",
       "      <td>-73.991255</td>\n",
       "      <td>519</td>\n",
       "      <td>Pershing Square North</td>\n",
       "      <td>40.751873</td>\n",
       "      <td>-73.977706</td>\n",
       "      <td>15271</td>\n",
       "      <td>Subscriber</td>\n",
       "      <td>1984</td>\n",
       "      <td>1</td>\n",
       "    </tr>\n",
       "    <tr>\n",
       "      <th>953886</th>\n",
       "      <td>978</td>\n",
       "      <td>2014-09-30 23:59:59</td>\n",
       "      <td>2014-10-01 00:16:17</td>\n",
       "      <td>147</td>\n",
       "      <td>Greenwich St &amp; Warren St</td>\n",
       "      <td>40.715422</td>\n",
       "      <td>-74.011220</td>\n",
       "      <td>116</td>\n",
       "      <td>W 17 St &amp; 8 Ave</td>\n",
       "      <td>40.741776</td>\n",
       "      <td>-74.001497</td>\n",
       "      <td>15068</td>\n",
       "      <td>Subscriber</td>\n",
       "      <td>1992</td>\n",
       "      <td>1</td>\n",
       "    </tr>\n",
       "  </tbody>\n",
       "</table>\n",
       "</div>"
      ],
      "text/plain": [
       "        tripduration           starttime            stoptime  \\\n",
       "953885           439 2014-09-30 23:59:58 2014-10-01 00:07:17   \n",
       "953886           978 2014-09-30 23:59:59 2014-10-01 00:16:17   \n",
       "\n",
       "        start station id        start station name  start station latitude  \\\n",
       "953885               479           9 Ave & W 45 St               40.760193   \n",
       "953886               147  Greenwich St & Warren St               40.715422   \n",
       "\n",
       "        start station longitude  end station id       end station name  \\\n",
       "953885               -73.991255             519  Pershing Square North   \n",
       "953886               -74.011220             116        W 17 St & 8 Ave   \n",
       "\n",
       "        end station latitude  end station longitude  bikeid    usertype  \\\n",
       "953885             40.751873             -73.977706   15271  Subscriber   \n",
       "953886             40.741776             -74.001497   15068  Subscriber   \n",
       "\n",
       "        birth year  gender  \n",
       "953885        1984       1  \n",
       "953886        1992       1  "
      ]
     },
     "execution_count": 23,
     "metadata": {},
     "output_type": "execute_result"
    }
   ],
   "source": [
    "# Check the format of the time stamps\n",
    "# (simply looking at the last rows will show an example\n",
    "# that used to be in the different format - post September)\n",
    "dfs[8].tail(2)"
   ]
  },
  {
   "cell_type": "markdown",
   "metadata": {},
   "source": [
    "Now that the timestamps are consistent, I will concatenate the datasets to obtain one dataframe containing all data for 2014."
   ]
  },
  {
   "cell_type": "code",
   "execution_count": 24,
   "metadata": {
    "collapsed": true
   },
   "outputs": [],
   "source": [
    "df = pd.concat(dfs)"
   ]
  },
  {
   "cell_type": "code",
   "execution_count": 25,
   "metadata": {
    "collapsed": false
   },
   "outputs": [
    {
     "data": {
      "text/plain": [
       "(8081216, 15)"
      ]
     },
     "execution_count": 25,
     "metadata": {},
     "output_type": "execute_result"
    }
   ],
   "source": [
    "df.shape"
   ]
  },
  {
   "cell_type": "markdown",
   "metadata": {},
   "source": [
    "I now have a pandas `DataFrame` in memory containing all the data combined together in a structured way. I will use the `pickle` module (part of the Python standard library) to save the data in the current format (a concept known as *serialization*). This will write a `.pkl` file to disk that I can save and easily read back to memory at any point in the future as I go on with the analysis (or even share with someone, if needed)."
   ]
  },
  {
   "cell_type": "code",
   "execution_count": 26,
   "metadata": {
    "collapsed": true
   },
   "outputs": [],
   "source": [
    "df.to_pickle('../Data/citibike_2014.pkl')"
   ]
  },
  {
   "cell_type": "markdown",
   "metadata": {},
   "source": [
    "<a id='Analysis'></a>\n",
    "## Analysis\n",
    "\n",
    "Get an overview of the data, by looking at the general aspect of the variables, data types, total number of observations, and so on."
   ]
  },
  {
   "cell_type": "code",
   "execution_count": 1,
   "metadata": {
    "collapsed": false
   },
   "outputs": [],
   "source": [
    "import pandas as pd\n",
    "import matplotlib as mpl\n",
    "import matplotlib.pyplot as plt\n",
    "plt.style.use('ggplot')\n",
    "%matplotlib inline"
   ]
  },
  {
   "cell_type": "code",
   "execution_count": 2,
   "metadata": {
    "collapsed": false
   },
   "outputs": [
    {
     "name": "stdout",
     "output_type": "stream",
     "text": [
      "CPU times: user 17.2 s, sys: 1.63 s, total: 18.8 s\n",
      "Wall time: 26.9 s\n"
     ]
    }
   ],
   "source": [
    "file_name = '../Data/citibike_2014.pkl'\n",
    "%time df = pd.read_pickle(file_name) # Read data and print elapsed time"
   ]
  },
  {
   "cell_type": "markdown",
   "metadata": {},
   "source": [
    "I will start by taking a look at some of the properties of the data set, such as the overall dimensions, the variables and the format of their data."
   ]
  },
  {
   "cell_type": "code",
   "execution_count": 5,
   "metadata": {
    "collapsed": false
   },
   "outputs": [
    {
     "data": {
      "text/plain": [
       "(8081216, 15)"
      ]
     },
     "execution_count": 5,
     "metadata": {},
     "output_type": "execute_result"
    }
   ],
   "source": [
    "# How many observations and variables are there\n",
    "df.shape"
   ]
  },
  {
   "cell_type": "code",
   "execution_count": 4,
   "metadata": {
    "collapsed": false
   },
   "outputs": [
    {
     "data": {
      "text/plain": [
       "tripduration                        int64\n",
       "starttime                  datetime64[ns]\n",
       "stoptime                   datetime64[ns]\n",
       "start station id                    int64\n",
       "start station name                 object\n",
       "start station latitude            float64\n",
       "start station longitude           float64\n",
       "end station id                      int64\n",
       "end station name                   object\n",
       "end station latitude              float64\n",
       "end station longitude             float64\n",
       "bikeid                              int64\n",
       "usertype                           object\n",
       "birth year                         object\n",
       "gender                              int64\n",
       "dtype: object"
      ]
     },
     "execution_count": 4,
     "metadata": {},
     "output_type": "execute_result"
    }
   ],
   "source": [
    "# Variable names and data types\n",
    "df.dtypes"
   ]
  },
  {
   "cell_type": "code",
   "execution_count": 5,
   "metadata": {
    "collapsed": false,
    "scrolled": true
   },
   "outputs": [
    {
     "data": {
      "text/html": [
       "<div>\n",
       "<table border=\"1\" class=\"dataframe\">\n",
       "  <thead>\n",
       "    <tr style=\"text-align: right;\">\n",
       "      <th></th>\n",
       "      <th>tripduration</th>\n",
       "      <th>starttime</th>\n",
       "      <th>stoptime</th>\n",
       "      <th>start station id</th>\n",
       "      <th>start station name</th>\n",
       "      <th>start station latitude</th>\n",
       "      <th>start station longitude</th>\n",
       "      <th>end station id</th>\n",
       "      <th>end station name</th>\n",
       "      <th>end station latitude</th>\n",
       "      <th>end station longitude</th>\n",
       "      <th>bikeid</th>\n",
       "      <th>usertype</th>\n",
       "      <th>birth year</th>\n",
       "      <th>gender</th>\n",
       "    </tr>\n",
       "  </thead>\n",
       "  <tbody>\n",
       "    <tr>\n",
       "      <th>0</th>\n",
       "      <td>471</td>\n",
       "      <td>2014-01-01 00:00:06</td>\n",
       "      <td>2014-01-01 00:07:57</td>\n",
       "      <td>2009</td>\n",
       "      <td>Catherine St &amp; Monroe St</td>\n",
       "      <td>40.711174</td>\n",
       "      <td>-73.996826</td>\n",
       "      <td>263</td>\n",
       "      <td>Elizabeth St &amp; Hester St</td>\n",
       "      <td>40.717290</td>\n",
       "      <td>-73.996375</td>\n",
       "      <td>16379</td>\n",
       "      <td>Subscriber</td>\n",
       "      <td>1986</td>\n",
       "      <td>1</td>\n",
       "    </tr>\n",
       "    <tr>\n",
       "      <th>1</th>\n",
       "      <td>1494</td>\n",
       "      <td>2014-01-01 00:00:38</td>\n",
       "      <td>2014-01-01 00:25:32</td>\n",
       "      <td>536</td>\n",
       "      <td>1 Ave &amp; E 30 St</td>\n",
       "      <td>40.741444</td>\n",
       "      <td>-73.975361</td>\n",
       "      <td>259</td>\n",
       "      <td>South St &amp; Whitehall St</td>\n",
       "      <td>40.701221</td>\n",
       "      <td>-74.012342</td>\n",
       "      <td>15611</td>\n",
       "      <td>Subscriber</td>\n",
       "      <td>1963</td>\n",
       "      <td>1</td>\n",
       "    </tr>\n",
       "  </tbody>\n",
       "</table>\n",
       "</div>"
      ],
      "text/plain": [
       "   tripduration           starttime            stoptime  start station id  \\\n",
       "0           471 2014-01-01 00:00:06 2014-01-01 00:07:57              2009   \n",
       "1          1494 2014-01-01 00:00:38 2014-01-01 00:25:32               536   \n",
       "\n",
       "         start station name  start station latitude  start station longitude  \\\n",
       "0  Catherine St & Monroe St               40.711174               -73.996826   \n",
       "1           1 Ave & E 30 St               40.741444               -73.975361   \n",
       "\n",
       "   end station id          end station name  end station latitude  \\\n",
       "0             263  Elizabeth St & Hester St             40.717290   \n",
       "1             259   South St & Whitehall St             40.701221   \n",
       "\n",
       "   end station longitude  bikeid    usertype birth year  gender  \n",
       "0             -73.996375   16379  Subscriber       1986       1  \n",
       "1             -74.012342   15611  Subscriber       1963       1  "
      ]
     },
     "execution_count": 5,
     "metadata": {},
     "output_type": "execute_result"
    }
   ],
   "source": [
    "df.head(2)"
   ]
  },
  {
   "cell_type": "code",
   "execution_count": 5,
   "metadata": {
    "collapsed": false
   },
   "outputs": [
    {
     "data": {
      "text/html": [
       "<div>\n",
       "<table border=\"1\" class=\"dataframe\">\n",
       "  <thead>\n",
       "    <tr style=\"text-align: right;\">\n",
       "      <th></th>\n",
       "      <th>tripduration</th>\n",
       "      <th>start station id</th>\n",
       "      <th>start station latitude</th>\n",
       "      <th>start station longitude</th>\n",
       "      <th>end station id</th>\n",
       "      <th>end station latitude</th>\n",
       "      <th>end station longitude</th>\n",
       "      <th>bikeid</th>\n",
       "      <th>gender</th>\n",
       "    </tr>\n",
       "  </thead>\n",
       "  <tbody>\n",
       "    <tr>\n",
       "      <th>count</th>\n",
       "      <td>8081216.000000</td>\n",
       "      <td>8081216.000000</td>\n",
       "      <td>8081216.000000</td>\n",
       "      <td>8081216.000000</td>\n",
       "      <td>8081216.000000</td>\n",
       "      <td>8081216.000000</td>\n",
       "      <td>8081216.000000</td>\n",
       "      <td>8081216.000000</td>\n",
       "      <td>8081216.000000</td>\n",
       "    </tr>\n",
       "    <tr>\n",
       "      <th>mean</th>\n",
       "      <td>851.175207</td>\n",
       "      <td>447.975454</td>\n",
       "      <td>40.734568</td>\n",
       "      <td>-73.991041</td>\n",
       "      <td>446.712358</td>\n",
       "      <td>40.734295</td>\n",
       "      <td>-73.991177</td>\n",
       "      <td>18120.661105</td>\n",
       "      <td>1.105837</td>\n",
       "    </tr>\n",
       "    <tr>\n",
       "      <th>std</th>\n",
       "      <td>4488.807328</td>\n",
       "      <td>362.021311</td>\n",
       "      <td>0.019329</td>\n",
       "      <td>0.012176</td>\n",
       "      <td>360.686612</td>\n",
       "      <td>0.019332</td>\n",
       "      <td>0.012243</td>\n",
       "      <td>2081.094092</td>\n",
       "      <td>0.539799</td>\n",
       "    </tr>\n",
       "    <tr>\n",
       "      <th>min</th>\n",
       "      <td>60.000000</td>\n",
       "      <td>72.000000</td>\n",
       "      <td>40.680342</td>\n",
       "      <td>-74.017134</td>\n",
       "      <td>72.000000</td>\n",
       "      <td>40.680342</td>\n",
       "      <td>-74.017134</td>\n",
       "      <td>14529.000000</td>\n",
       "      <td>0.000000</td>\n",
       "    </tr>\n",
       "    <tr>\n",
       "      <th>25%</th>\n",
       "      <td>390.000000</td>\n",
       "      <td>305.000000</td>\n",
       "      <td>40.721655</td>\n",
       "      <td>-73.999947</td>\n",
       "      <td>305.000000</td>\n",
       "      <td>40.721101</td>\n",
       "      <td>-74.000040</td>\n",
       "      <td>16329.000000</td>\n",
       "      <td>1.000000</td>\n",
       "    </tr>\n",
       "    <tr>\n",
       "      <th>50%</th>\n",
       "      <td>616.000000</td>\n",
       "      <td>404.000000</td>\n",
       "      <td>40.736245</td>\n",
       "      <td>-73.990765</td>\n",
       "      <td>404.000000</td>\n",
       "      <td>40.735877</td>\n",
       "      <td>-73.990931</td>\n",
       "      <td>18112.000000</td>\n",
       "      <td>1.000000</td>\n",
       "    </tr>\n",
       "    <tr>\n",
       "      <th>75%</th>\n",
       "      <td>1010.000000</td>\n",
       "      <td>489.000000</td>\n",
       "      <td>40.750020</td>\n",
       "      <td>-73.982050</td>\n",
       "      <td>488.000000</td>\n",
       "      <td>40.749156</td>\n",
       "      <td>-73.982050</td>\n",
       "      <td>19897.000000</td>\n",
       "      <td>1.000000</td>\n",
       "    </tr>\n",
       "    <tr>\n",
       "      <th>max</th>\n",
       "      <td>5416640.000000</td>\n",
       "      <td>3002.000000</td>\n",
       "      <td>40.771522</td>\n",
       "      <td>-73.950048</td>\n",
       "      <td>3002.000000</td>\n",
       "      <td>40.771522</td>\n",
       "      <td>-73.950048</td>\n",
       "      <td>21690.000000</td>\n",
       "      <td>2.000000</td>\n",
       "    </tr>\n",
       "  </tbody>\n",
       "</table>\n",
       "</div>"
      ],
      "text/plain": [
       "         tripduration  start station id  start station latitude  \\\n",
       "count  8081216.000000    8081216.000000          8081216.000000   \n",
       "mean       851.175207        447.975454               40.734568   \n",
       "std       4488.807328        362.021311                0.019329   \n",
       "min         60.000000         72.000000               40.680342   \n",
       "25%        390.000000        305.000000               40.721655   \n",
       "50%        616.000000        404.000000               40.736245   \n",
       "75%       1010.000000        489.000000               40.750020   \n",
       "max    5416640.000000       3002.000000               40.771522   \n",
       "\n",
       "       start station longitude  end station id  end station latitude  \\\n",
       "count           8081216.000000  8081216.000000        8081216.000000   \n",
       "mean                -73.991041      446.712358             40.734295   \n",
       "std                   0.012176      360.686612              0.019332   \n",
       "min                 -74.017134       72.000000             40.680342   \n",
       "25%                 -73.999947      305.000000             40.721101   \n",
       "50%                 -73.990765      404.000000             40.735877   \n",
       "75%                 -73.982050      488.000000             40.749156   \n",
       "max                 -73.950048     3002.000000             40.771522   \n",
       "\n",
       "       end station longitude          bikeid          gender  \n",
       "count         8081216.000000  8081216.000000  8081216.000000  \n",
       "mean              -73.991177    18120.661105        1.105837  \n",
       "std                 0.012243     2081.094092        0.539799  \n",
       "min               -74.017134    14529.000000        0.000000  \n",
       "25%               -74.000040    16329.000000        1.000000  \n",
       "50%               -73.990931    18112.000000        1.000000  \n",
       "75%               -73.982050    19897.000000        1.000000  \n",
       "max               -73.950048    21690.000000        2.000000  "
      ]
     },
     "execution_count": 5,
     "metadata": {},
     "output_type": "execute_result"
    }
   ],
   "source": [
    "# Summary of the numerical variables\n",
    "df.describe()"
   ]
  },
  {
   "cell_type": "code",
   "execution_count": 10,
   "metadata": {
    "collapsed": false
   },
   "outputs": [
    {
     "data": {
      "text/plain": [
       "(6811,)"
      ]
     },
     "execution_count": 10,
     "metadata": {},
     "output_type": "execute_result"
    }
   ],
   "source": [
    "df['bikeid'].unique().shape # Number of individual bikes"
   ]
  },
  {
   "cell_type": "code",
   "execution_count": 7,
   "metadata": {
    "collapsed": false
   },
   "outputs": [
    {
     "data": {
      "text/plain": [
       "(332,)"
      ]
     },
     "execution_count": 7,
     "metadata": {},
     "output_type": "execute_result"
    }
   ],
   "source": [
    "df['start station id'].unique().shape # Number of citibike stations"
   ]
  },
  {
   "cell_type": "markdown",
   "metadata": {},
   "source": [
    "One thing I am curious about is user gender distribution."
   ]
  },
  {
   "cell_type": "code",
   "execution_count": 8,
   "metadata": {
    "collapsed": false
   },
   "outputs": [
    {
     "data": {
      "text/plain": [
       "array([1, 2, 0])"
      ]
     },
     "execution_count": 8,
     "metadata": {},
     "output_type": "execute_result"
    }
   ],
   "source": [
    "df['gender'].unique() # from citibike's description of the data: Zero=unknown; 1=male; 2=female."
   ]
  },
  {
   "cell_type": "code",
   "execution_count": 5,
   "metadata": {
    "collapsed": false
   },
   "outputs": [],
   "source": [
    "# Prepare data\n",
    "genders = ['Unknown', 'Male', 'Female']\n",
    "y_pos = [0, 1, 2]\n",
    "trip_counts = df.groupby('gender')['gender'].count()"
   ]
  },
  {
   "cell_type": "code",
   "execution_count": 6,
   "metadata": {
    "collapsed": false
   },
   "outputs": [
    {
     "data": {
      "image/png": "[encoded data removed]",
      "text/plain": [
       "<matplotlib.figure.Figure at 0x1231d3d50>"
      ]
     },
     "metadata": {},
     "output_type": "display_data"
    }
   ],
   "source": [
    "# Plot\n",
    "plt.rcParams.update({'font.size': 16})\n",
    "plt.barh(y_pos, trip_counts / 1000000, align = 'center', alpha = 0.5, color = 'orange')\n",
    "plt.yticks(y_pos, genders)\n",
    "plt.xlabel('Millions of trips')\n",
    "plt.title('Distribution of trips according to user gender')\n",
    "plt.show()"
   ]
  },
  {
   "cell_type": "markdown",
   "metadata": {},
   "source": [
    "Another interesting point is trip duration. We know from the summary statistics we looked at above that the mean trip duration is 851 seconds (about 14 minutes), with a large standard deviation (4489 sec. or 75 min.). Let's look at the distribution in more detail."
   ]
  },
  {
   "cell_type": "code",
   "execution_count": 3,
   "metadata": {
    "collapsed": false
   },
   "outputs": [],
   "source": [
    "# Collect all trips shorter than 1 hour\n",
    "duration_mins = df.loc[(df.tripduration / 60 < 60)][['tripduration']]\n",
    "duration_mins = duration_mins / 60 # In minutes"
   ]
  },
  {
   "cell_type": "code",
   "execution_count": 7,
   "metadata": {
    "collapsed": false,
    "scrolled": false
   },
   "outputs": [
    {
     "data": {
      "text/plain": [
       "<matplotlib.text.Text at 0x132e3ae50>"
      ]
     },
     "execution_count": 7,
     "metadata": {},
     "output_type": "execute_result"
    },
    {
     "data": {
      "image/png": "[encoded data removed]",
      "text/plain": [
       "<matplotlib.figure.Figure at 0x11bb3da90>"
      ]
     },
     "metadata": {},
     "output_type": "display_data"
    }
   ],
   "source": [
    "# Plot the distribution of trip durations\n",
    "plt.rcParams.update({'font.size': 16})\n",
    "duration_mins.hist(figsize = (8,5), bins = 15, alpha = 0.5, color = 'orange')\n",
    "plt.tick_params(axis = 'both', which = 'major', labelsize = 18)\n",
    "plt.title('Distribution of trip durations\\n')\n",
    "plt.xlabel('Duration (min.)')\n",
    "plt.ylabel('Trip counts')"
   ]
  },
  {
   "cell_type": "markdown",
   "metadata": {},
   "source": [
    "The histogram shows that most trips are rather short. As duration increases the number of trips gets smaller and long trips are not very frequent.\n",
    "\n",
    "There are many interesting questions to explore using these data. In this analysis I will be focusing on comparing the different citibike stations in the network according to number of trips and their duration. The final goal is to build visualizations of total trip counts and trip duration on maps of the citibike station network.\n",
    "\n",
    "<a id='Temporal_patterns'></a>\n",
    "## 1. Temporal patterns of citibike use"
   ]
  },
  {
   "cell_type": "code",
   "execution_count": 9,
   "metadata": {
    "collapsed": false
   },
   "outputs": [],
   "source": [
    "# Calculate trip counts per hour on weekdays and weekends\n",
    "df_sub = df.loc[:, ['tripduration', 'starttime']] # Keep only 'starttime' and 'tripduration' variables\n",
    "# Index dataframe by 'datetime64' data in 'starttime' variable\n",
    "df_sub.index = df_sub['starttime']\n",
    "weekdays = df_sub[df_sub.index.weekday < 5]\n",
    "weekends = df_sub[df_sub.index.weekday > 4]\n",
    "weekdays_countsPerHr = weekdays.groupby(weekdays.index.hour).size()\n",
    "weekends_countsPerHr = weekends.groupby(weekends.index.hour).size()"
   ]
  },
  {
   "cell_type": "code",
   "execution_count": 11,
   "metadata": {
    "collapsed": false
   },
   "outputs": [
    {
     "data": {
      "image/png": "[encoded data removed]",
      "text/plain": [
       "<matplotlib.figure.Figure at 0x11c0c2590>"
      ]
     },
     "metadata": {},
     "output_type": "display_data"
    }
   ],
   "source": [
    "plt.rcParams.update({'font.size': 18, 'legend.fontsize': 20})\n",
    "weekdays_countsPerHr.plot(kind = 'area', stacked = False, figsize = (10, 6), color = 'darkorange',\n",
    "                          linewidth = 2, label='Weekdays')\n",
    "\n",
    "weekends_countsPerHr.plot(kind = 'area', stacked = False, color = 'darkred',\n",
    "                          linewidth = 2, label='Weekends')\n",
    "\n",
    "plt.tick_params(axis = 'both', which = 'major', labelsize = 18)\n",
    "ax = plt.gca()\n",
    "plt.title('Number of trips / hour\\n')\n",
    "plt.xlabel('Time of day (hr)')\n",
    "plt.ylabel('Number of trips')\n",
    "legend = ax.legend(loc='upper left', frameon = False)"
   ]
  },
  {
   "cell_type": "code",
   "execution_count": 12,
   "metadata": {
    "collapsed": true
   },
   "outputs": [],
   "source": [
    "df.index = df['starttime']\n",
    "countsPerDay = df.starttime.resample('D', how = ['count'])"
   ]
  },
  {
   "cell_type": "code",
   "execution_count": 17,
   "metadata": {
    "collapsed": false
   },
   "outputs": [
    {
     "data": {
      "text/plain": [
       "<matplotlib.text.Text at 0x1104da4d0>"
      ]
     },
     "execution_count": 17,
     "metadata": {},
     "output_type": "execute_result"
    },
    {
     "data": {
      "image/png": "[encoded data removed]",
      "text/plain": [
       "<matplotlib.figure.Figure at 0x11022e810>"
      ]
     },
     "metadata": {},
     "output_type": "display_data"
    }
   ],
   "source": [
    "countsPerDay.plot(kind = 'area', stacked = False, figsize = (15, 5),\n",
    "                  color = 'darkorange', linewidth = 2, legend = False)\n",
    "plt.tick_params(axis = 'both', which = 'major', labelsize = 18)\n",
    "ax = plt.gca()\n",
    "plt.title('Number of trips / day\\n')\n",
    "plt.xlabel('')\n",
    "plt.ylabel('Number of trips')"
   ]
  },
  {
   "cell_type": "markdown",
   "metadata": {},
   "source": [
    "<a id='Map_start'></a>\n",
    "## 2. Map trip count and duration according to start station\n",
    "Get only start station id, name and coordinates, drop duplicates and add columns with trip counts and mean duration for each station."
   ]
  },
  {
   "cell_type": "code",
   "execution_count": 4,
   "metadata": {
    "collapsed": false
   },
   "outputs": [
    {
     "data": {
      "text/html": [
       "<div>\n",
       "<table border=\"1\" class=\"dataframe\">\n",
       "  <thead>\n",
       "    <tr style=\"text-align: right;\">\n",
       "      <th></th>\n",
       "      <th>start station id</th>\n",
       "      <th>start station name</th>\n",
       "      <th>start station latitude</th>\n",
       "      <th>start station longitude</th>\n",
       "    </tr>\n",
       "    <tr>\n",
       "      <th>start station id</th>\n",
       "      <th></th>\n",
       "      <th></th>\n",
       "      <th></th>\n",
       "      <th></th>\n",
       "    </tr>\n",
       "  </thead>\n",
       "  <tbody>\n",
       "    <tr>\n",
       "      <th>2009</th>\n",
       "      <td>2009</td>\n",
       "      <td>Catherine St &amp; Monroe St</td>\n",
       "      <td>40.711174</td>\n",
       "      <td>-73.996826</td>\n",
       "    </tr>\n",
       "    <tr>\n",
       "      <th>536</th>\n",
       "      <td>536</td>\n",
       "      <td>1 Ave &amp; E 30 St</td>\n",
       "      <td>40.741444</td>\n",
       "      <td>-73.975361</td>\n",
       "    </tr>\n",
       "    <tr>\n",
       "      <th>228</th>\n",
       "      <td>228</td>\n",
       "      <td>E 48 St &amp; 3 Ave</td>\n",
       "      <td>40.754601</td>\n",
       "      <td>-73.971879</td>\n",
       "    </tr>\n",
       "    <tr>\n",
       "      <th>519</th>\n",
       "      <td>519</td>\n",
       "      <td>Pershing Square N</td>\n",
       "      <td>40.751884</td>\n",
       "      <td>-73.977702</td>\n",
       "    </tr>\n",
       "    <tr>\n",
       "      <th>83</th>\n",
       "      <td>83</td>\n",
       "      <td>Atlantic Ave &amp; Fort Greene Pl</td>\n",
       "      <td>40.683826</td>\n",
       "      <td>-73.976323</td>\n",
       "    </tr>\n",
       "  </tbody>\n",
       "</table>\n",
       "</div>"
      ],
      "text/plain": [
       "                  start station id             start station name  \\\n",
       "start station id                                                    \n",
       "2009                          2009       Catherine St & Monroe St   \n",
       "536                            536                1 Ave & E 30 St   \n",
       "228                            228                E 48 St & 3 Ave   \n",
       "519                            519              Pershing Square N   \n",
       "83                              83  Atlantic Ave & Fort Greene Pl   \n",
       "\n",
       "                  start station latitude  start station longitude  \n",
       "start station id                                                   \n",
       "2009                           40.711174               -73.996826  \n",
       "536                            40.741444               -73.975361  \n",
       "228                            40.754601               -73.971879  \n",
       "519                            40.751884               -73.977702  \n",
       "83                             40.683826               -73.976323  "
      ]
     },
     "execution_count": 4,
     "metadata": {},
     "output_type": "execute_result"
    }
   ],
   "source": [
    "start_station = df.iloc[:,[3, 4, 5, 6]]\n",
    "start_station.index = start_station['start station id']\n",
    "start_station.head()"
   ]
  },
  {
   "cell_type": "code",
   "execution_count": 5,
   "metadata": {
    "collapsed": false
   },
   "outputs": [
    {
     "data": {
      "text/plain": [
       "(345, 4)"
      ]
     },
     "execution_count": 5,
     "metadata": {},
     "output_type": "execute_result"
    }
   ],
   "source": [
    "start_station = start_station.drop_duplicates()\n",
    "start_station.shape"
   ]
  },
  {
   "cell_type": "code",
   "execution_count": 6,
   "metadata": {
    "collapsed": false
   },
   "outputs": [
    {
     "data": {
      "text/html": [
       "<div>\n",
       "<table border=\"1\" class=\"dataframe\">\n",
       "  <thead>\n",
       "    <tr style=\"text-align: right;\">\n",
       "      <th></th>\n",
       "      <th>start station id</th>\n",
       "      <th>start station name</th>\n",
       "      <th>start station latitude</th>\n",
       "      <th>start station longitude</th>\n",
       "      <th>trip count</th>\n",
       "      <th>mean duration</th>\n",
       "    </tr>\n",
       "    <tr>\n",
       "      <th>start station id</th>\n",
       "      <th></th>\n",
       "      <th></th>\n",
       "      <th></th>\n",
       "      <th></th>\n",
       "      <th></th>\n",
       "      <th></th>\n",
       "    </tr>\n",
       "  </thead>\n",
       "  <tbody>\n",
       "    <tr>\n",
       "      <th>2009</th>\n",
       "      <td>2009</td>\n",
       "      <td>Catherine St &amp; Monroe St</td>\n",
       "      <td>40.711174</td>\n",
       "      <td>-73.996826</td>\n",
       "      <td>13610</td>\n",
       "      <td>839.999780</td>\n",
       "    </tr>\n",
       "    <tr>\n",
       "      <th>536</th>\n",
       "      <td>536</td>\n",
       "      <td>1 Ave &amp; E 30 St</td>\n",
       "      <td>40.741444</td>\n",
       "      <td>-73.975361</td>\n",
       "      <td>33802</td>\n",
       "      <td>776.975120</td>\n",
       "    </tr>\n",
       "    <tr>\n",
       "      <th>228</th>\n",
       "      <td>228</td>\n",
       "      <td>E 48 St &amp; 3 Ave</td>\n",
       "      <td>40.754601</td>\n",
       "      <td>-73.971879</td>\n",
       "      <td>21674</td>\n",
       "      <td>867.526437</td>\n",
       "    </tr>\n",
       "    <tr>\n",
       "      <th>519</th>\n",
       "      <td>519</td>\n",
       "      <td>Pershing Square N</td>\n",
       "      <td>40.751884</td>\n",
       "      <td>-73.977702</td>\n",
       "      <td>92137</td>\n",
       "      <td>802.202340</td>\n",
       "    </tr>\n",
       "    <tr>\n",
       "      <th>83</th>\n",
       "      <td>83</td>\n",
       "      <td>Atlantic Ave &amp; Fort Greene Pl</td>\n",
       "      <td>40.683826</td>\n",
       "      <td>-73.976323</td>\n",
       "      <td>9777</td>\n",
       "      <td>1064.485834</td>\n",
       "    </tr>\n",
       "  </tbody>\n",
       "</table>\n",
       "</div>"
      ],
      "text/plain": [
       "                  start station id             start station name  \\\n",
       "start station id                                                    \n",
       "2009                          2009       Catherine St & Monroe St   \n",
       "536                            536                1 Ave & E 30 St   \n",
       "228                            228                E 48 St & 3 Ave   \n",
       "519                            519              Pershing Square N   \n",
       "83                              83  Atlantic Ave & Fort Greene Pl   \n",
       "\n",
       "                  start station latitude  start station longitude  trip count  \\\n",
       "start station id                                                                \n",
       "2009                           40.711174               -73.996826       13610   \n",
       "536                            40.741444               -73.975361       33802   \n",
       "228                            40.754601               -73.971879       21674   \n",
       "519                            40.751884               -73.977702       92137   \n",
       "83                             40.683826               -73.976323        9777   \n",
       "\n",
       "                  mean duration  \n",
       "start station id                 \n",
       "2009                 839.999780  \n",
       "536                  776.975120  \n",
       "228                  867.526437  \n",
       "519                  802.202340  \n",
       "83                  1064.485834  "
      ]
     },
     "execution_count": 6,
     "metadata": {},
     "output_type": "execute_result"
    }
   ],
   "source": [
    "# Add trip counts and mean trip duration for each start station\n",
    "count_start_station = df.groupby('start station id')['start station id'].count()\n",
    "mean_start_station = df.groupby('start station id')['tripduration'].mean()\n",
    "start_station['trip count'] = count_start_station\n",
    "start_station['mean duration'] = mean_start_station\n",
    "start_station.head()"
   ]
  },
  {
   "cell_type": "code",
   "execution_count": 43,
   "metadata": {
    "collapsed": false
   },
   "outputs": [
    {
     "data": {
      "text/html": [
       "<div>\n",
       "<table border=\"1\" class=\"dataframe\">\n",
       "  <thead>\n",
       "    <tr style=\"text-align: right;\">\n",
       "      <th></th>\n",
       "      <th>start station id</th>\n",
       "      <th>start station name</th>\n",
       "      <th>start station latitude</th>\n",
       "      <th>start station longitude</th>\n",
       "      <th>trip count</th>\n",
       "      <th>mean duration</th>\n",
       "    </tr>\n",
       "    <tr>\n",
       "      <th>start station id</th>\n",
       "      <th></th>\n",
       "      <th></th>\n",
       "      <th></th>\n",
       "      <th></th>\n",
       "      <th></th>\n",
       "      <th></th>\n",
       "    </tr>\n",
       "  </thead>\n",
       "  <tbody>\n",
       "    <tr>\n",
       "      <th>2006</th>\n",
       "      <td>2006</td>\n",
       "      <td>Central Park S &amp; 6 Ave</td>\n",
       "      <td>40.765909</td>\n",
       "      <td>-73.976342</td>\n",
       "      <td>32894</td>\n",
       "      <td>1996.400164</td>\n",
       "    </tr>\n",
       "    <tr>\n",
       "      <th>427</th>\n",
       "      <td>427</td>\n",
       "      <td>State St</td>\n",
       "      <td>40.702515</td>\n",
       "      <td>-74.014270</td>\n",
       "      <td>15945</td>\n",
       "      <td>1405.078645</td>\n",
       "    </tr>\n",
       "    <tr>\n",
       "      <th>281</th>\n",
       "      <td>281</td>\n",
       "      <td>Grand Army Plaza &amp; Central Park S</td>\n",
       "      <td>40.764397</td>\n",
       "      <td>-73.973715</td>\n",
       "      <td>42058</td>\n",
       "      <td>1546.376052</td>\n",
       "    </tr>\n",
       "    <tr>\n",
       "      <th>398</th>\n",
       "      <td>398</td>\n",
       "      <td>Atlantic Ave &amp; Furman St</td>\n",
       "      <td>40.691652</td>\n",
       "      <td>-73.999979</td>\n",
       "      <td>9953</td>\n",
       "      <td>1478.246358</td>\n",
       "    </tr>\n",
       "    <tr>\n",
       "      <th>282</th>\n",
       "      <td>282</td>\n",
       "      <td>Kent Ave &amp; S 11 St</td>\n",
       "      <td>40.708273</td>\n",
       "      <td>-73.968341</td>\n",
       "      <td>4921</td>\n",
       "      <td>2629.542573</td>\n",
       "    </tr>\n",
       "    <tr>\n",
       "      <th>2002</th>\n",
       "      <td>2002</td>\n",
       "      <td>Wythe Ave &amp; Metropolitan Ave</td>\n",
       "      <td>40.716887</td>\n",
       "      <td>-73.963198</td>\n",
       "      <td>15214</td>\n",
       "      <td>1513.789076</td>\n",
       "    </tr>\n",
       "    <tr>\n",
       "      <th>372</th>\n",
       "      <td>372</td>\n",
       "      <td>Franklin Ave &amp; Myrtle Ave</td>\n",
       "      <td>40.694528</td>\n",
       "      <td>-73.958089</td>\n",
       "      <td>2883</td>\n",
       "      <td>3877.965314</td>\n",
       "    </tr>\n",
       "    <tr>\n",
       "      <th>144</th>\n",
       "      <td>144</td>\n",
       "      <td>Nassau St &amp; Navy St</td>\n",
       "      <td>40.698399</td>\n",
       "      <td>-73.980689</td>\n",
       "      <td>3944</td>\n",
       "      <td>1419.692698</td>\n",
       "    </tr>\n",
       "    <tr>\n",
       "      <th>259</th>\n",
       "      <td>259</td>\n",
       "      <td>South St &amp; Whitehall St</td>\n",
       "      <td>40.701221</td>\n",
       "      <td>-74.012342</td>\n",
       "      <td>17011</td>\n",
       "      <td>1403.662865</td>\n",
       "    </tr>\n",
       "    <tr>\n",
       "      <th>217</th>\n",
       "      <td>217</td>\n",
       "      <td>Old Fulton St</td>\n",
       "      <td>40.702772</td>\n",
       "      <td>-73.993836</td>\n",
       "      <td>13106</td>\n",
       "      <td>1498.136884</td>\n",
       "    </tr>\n",
       "    <tr>\n",
       "      <th>427</th>\n",
       "      <td>427</td>\n",
       "      <td>Bus Slip &amp; State St</td>\n",
       "      <td>40.701907</td>\n",
       "      <td>-74.013942</td>\n",
       "      <td>15945</td>\n",
       "      <td>1405.078645</td>\n",
       "    </tr>\n",
       "  </tbody>\n",
       "</table>\n",
       "</div>"
      ],
      "text/plain": [
       "                  start station id                 start station name  \\\n",
       "start station id                                                        \n",
       "2006                          2006             Central Park S & 6 Ave   \n",
       "427                            427                           State St   \n",
       "281                            281  Grand Army Plaza & Central Park S   \n",
       "398                            398           Atlantic Ave & Furman St   \n",
       "282                            282                 Kent Ave & S 11 St   \n",
       "2002                          2002       Wythe Ave & Metropolitan Ave   \n",
       "372                            372          Franklin Ave & Myrtle Ave   \n",
       "144                            144                Nassau St & Navy St   \n",
       "259                            259            South St & Whitehall St   \n",
       "217                            217                      Old Fulton St   \n",
       "427                            427                Bus Slip & State St   \n",
       "\n",
       "                  start station latitude  start station longitude  trip count  \\\n",
       "start station id                                                                \n",
       "2006                           40.765909               -73.976342       32894   \n",
       "427                            40.702515               -74.014270       15945   \n",
       "281                            40.764397               -73.973715       42058   \n",
       "398                            40.691652               -73.999979        9953   \n",
       "282                            40.708273               -73.968341        4921   \n",
       "2002                           40.716887               -73.963198       15214   \n",
       "372                            40.694528               -73.958089        2883   \n",
       "144                            40.698399               -73.980689        3944   \n",
       "259                            40.701221               -74.012342       17011   \n",
       "217                            40.702772               -73.993836       13106   \n",
       "427                            40.701907               -74.013942       15945   \n",
       "\n",
       "                  mean duration  \n",
       "start station id                 \n",
       "2006                1996.400164  \n",
       "427                 1405.078645  \n",
       "281                 1546.376052  \n",
       "398                 1478.246358  \n",
       "282                 2629.542573  \n",
       "2002                1513.789076  \n",
       "372                 3877.965314  \n",
       "144                 1419.692698  \n",
       "259                 1403.662865  \n",
       "217                 1498.136884  \n",
       "427                 1405.078645  "
      ]
     },
     "execution_count": 43,
     "metadata": {},
     "output_type": "execute_result"
    }
   ],
   "source": [
    "start_station[start_station['mean duration'] > 1400]"
   ]
  },
  {
   "cell_type": "code",
   "execution_count": 44,
   "metadata": {
    "collapsed": false
   },
   "outputs": [
    {
     "data": {
      "text/plain": [
       "575.18508343508347"
      ]
     },
     "execution_count": 44,
     "metadata": {},
     "output_type": "execute_result"
    }
   ],
   "source": [
    "start_station['mean duration'].min()"
   ]
  },
  {
   "cell_type": "code",
   "execution_count": 9,
   "metadata": {
    "collapsed": false
   },
   "outputs": [],
   "source": [
    "import folium\n",
    "from matplotlib.colors import Normalize, rgb2hex\n",
    "import matplotlib.cm as cm\n",
    "\n",
    "norm = Normalize(start_station['trip count'].min(), start_station['trip count'].max())\n",
    "# Get dark tileset from CartoBD (https://cartodb.com/basemaps)\n",
    "tileset = r'http://{s}.basemaps.cartocdn.com/dark_all/{z}/{x}/{y}.png'\n",
    "\n",
    "start_station_map = folium.Map(location = [40.74, -73.99], width = 400, height = 600,\n",
    "                               tiles = tileset,\n",
    "                               attr = '&copy; <a href=\"http://www.openstreetmap.org/copyright\">OpenStreetMap</a> contributors, &copy; <a href=\"http://cartodb.com/attributions\">CartoDB</a>',\n",
    "                               zoom_start = 12)\n",
    "\n",
    "for index, row in start_station.iterrows():\n",
    "    color = rgb2hex(cm.YlOrRd(norm(row['trip count'])))\n",
    "    start_station_map.circle_marker(location = [row['start station latitude'],\n",
    "                                                row['start station longitude']],\n",
    "                                    popup = row['start station name'],\n",
    "                                    radius = row['mean duration'] / 10,\n",
    "                                    fill_color = color, line_color = color)\n",
    "    \n",
    "start_station_map.create_map(path = 'start_station_map.html')\n",
    "\n",
    "del start_station_map"
   ]
  },
  {
   "cell_type": "code",
   "execution_count": 130,
   "metadata": {
    "collapsed": false,
    "scrolled": false
   },
   "outputs": [
    {
     "data": {
      "text/html": [
       "\n",
       "        <iframe\n",
       "            width=\"400\"\n",
       "            height=\"600\"\n",
       "            src=\"start_station_map.html\"\n",
       "            frameborder=\"0\"\n",
       "            allowfullscreen\n",
       "        ></iframe>\n",
       "        "
      ],
      "text/plain": [
       "<IPython.lib.display.IFrame at 0x11da2a790>"
      ]
     },
     "execution_count": 130,
     "metadata": {},
     "output_type": "execute_result"
    }
   ],
   "source": [
    "from IPython.display import IFrame\n",
    "IFrame('start_station_map.html', width = 400, height = 600)"
   ]
  },
  {
   "cell_type": "code",
   "execution_count": 135,
   "metadata": {
    "collapsed": false
   },
   "outputs": [
    {
     "data": {
      "image/png": "[encoded data removed]",
      "text/plain": [
       "<matplotlib.figure.Figure at 0x11d9ae710>"
      ]
     },
     "metadata": {},
     "output_type": "display_data"
    }
   ],
   "source": [
    "# Make a color scale bar\n",
    "plt.rcParams.update({'font.size': 14})\n",
    "fig = plt.figure(figsize = (.5, 30))\n",
    "ax1 = fig.add_axes([0.05, 0.80, 0.9, 0.15])\n",
    "\n",
    "# Set the colormap and norm to correspond to the data\n",
    "cmap = mpl.cm.YlOrRd\n",
    "norm = mpl.colors.Normalize(start_station['trip count'].min(), start_station['trip count'].max())\n",
    "\n",
    "cb1 = mpl.colorbar.ColorbarBase(ax1, cmap = cmap, norm = norm, orientation = 'vertical')\n",
    "cb1.set_label('Trip counts')\n",
    "\n",
    "# Save as file\n",
    "from pylab import *\n",
    "savefig('color_scale_start_station.png', bbox_inches = 'tight')"
   ]
  },
  {
   "cell_type": "code",
   "execution_count": 136,
   "metadata": {
    "collapsed": false
   },
   "outputs": [
    {
     "data": {
      "text/plain": [
       "100498"
      ]
     },
     "execution_count": 136,
     "metadata": {},
     "output_type": "execute_result"
    }
   ],
   "source": [
    "start_station['trip count'].max()"
   ]
  },
  {
   "cell_type": "code",
   "execution_count": 137,
   "metadata": {
    "collapsed": false
   },
   "outputs": [
    {
     "data": {
      "text/plain": [
       "843"
      ]
     },
     "execution_count": 137,
     "metadata": {},
     "output_type": "execute_result"
    }
   ],
   "source": [
    "start_station['trip count'].min()"
   ]
  },
  {
   "cell_type": "code",
   "execution_count": 139,
   "metadata": {
    "collapsed": false
   },
   "outputs": [
    {
     "data": {
      "text/plain": [
       "64.632755231818706"
      ]
     },
     "execution_count": 139,
     "metadata": {},
     "output_type": "execute_result"
    }
   ],
   "source": [
    "start_station['mean duration'].max() / 60"
   ]
  },
  {
   "cell_type": "code",
   "execution_count": 140,
   "metadata": {
    "collapsed": false
   },
   "outputs": [
    {
     "data": {
      "text/plain": [
       "9.5864180572513913"
      ]
     },
     "execution_count": 140,
     "metadata": {},
     "output_type": "execute_result"
    }
   ],
   "source": [
    "start_station['mean duration'].min() / 60"
   ]
  },
  {
   "cell_type": "markdown",
   "metadata": {},
   "source": [
    "<a id='Map_end'></a>\n",
    "## 3. Map trip count and duration according to end station\n",
    "\n",
    "Get only start station id, name and coordinates, drop duplicates and add columns with trip counts and mean duration for each station."
   ]
  },
  {
   "cell_type": "code",
   "execution_count": 136,
   "metadata": {
    "collapsed": false
   },
   "outputs": [
    {
     "data": {
      "text/html": [
       "<div>\n",
       "<table border=\"1\" class=\"dataframe\">\n",
       "  <thead>\n",
       "    <tr style=\"text-align: right;\">\n",
       "      <th></th>\n",
       "      <th>end station id</th>\n",
       "      <th>end station name</th>\n",
       "      <th>end station latitude</th>\n",
       "      <th>end station longitude</th>\n",
       "    </tr>\n",
       "    <tr>\n",
       "      <th>end station id</th>\n",
       "      <th></th>\n",
       "      <th></th>\n",
       "      <th></th>\n",
       "      <th></th>\n",
       "    </tr>\n",
       "  </thead>\n",
       "  <tbody>\n",
       "    <tr>\n",
       "      <th>263</th>\n",
       "      <td>263</td>\n",
       "      <td>Elizabeth St &amp; Hester St</td>\n",
       "      <td>40.717290</td>\n",
       "      <td>-73.996375</td>\n",
       "    </tr>\n",
       "    <tr>\n",
       "      <th>259</th>\n",
       "      <td>259</td>\n",
       "      <td>South St &amp; Whitehall St</td>\n",
       "      <td>40.701221</td>\n",
       "      <td>-74.012342</td>\n",
       "    </tr>\n",
       "    <tr>\n",
       "      <th>2022</th>\n",
       "      <td>2022</td>\n",
       "      <td>E 59 St &amp; Sutton Pl</td>\n",
       "      <td>40.758491</td>\n",
       "      <td>-73.959206</td>\n",
       "    </tr>\n",
       "    <tr>\n",
       "      <th>526</th>\n",
       "      <td>526</td>\n",
       "      <td>E 33 St &amp; 5 Ave</td>\n",
       "      <td>40.747659</td>\n",
       "      <td>-73.984907</td>\n",
       "    </tr>\n",
       "    <tr>\n",
       "      <th>436</th>\n",
       "      <td>436</td>\n",
       "      <td>Hancock St &amp; Bedford Ave</td>\n",
       "      <td>40.682166</td>\n",
       "      <td>-73.953990</td>\n",
       "    </tr>\n",
       "  </tbody>\n",
       "</table>\n",
       "</div>"
      ],
      "text/plain": [
       "                end station id          end station name  \\\n",
       "end station id                                             \n",
       "263                        263  Elizabeth St & Hester St   \n",
       "259                        259   South St & Whitehall St   \n",
       "2022                      2022       E 59 St & Sutton Pl   \n",
       "526                        526           E 33 St & 5 Ave   \n",
       "436                        436  Hancock St & Bedford Ave   \n",
       "\n",
       "                end station latitude  end station longitude  \n",
       "end station id                                               \n",
       "263                        40.717290             -73.996375  \n",
       "259                        40.701221             -74.012342  \n",
       "2022                       40.758491             -73.959206  \n",
       "526                        40.747659             -73.984907  \n",
       "436                        40.682166             -73.953990  "
      ]
     },
     "execution_count": 136,
     "metadata": {},
     "output_type": "execute_result"
    }
   ],
   "source": [
    "end_station = df.iloc[:, [7, 8, 9, 10]]\n",
    "end_station.index = end_station['end station id']\n",
    "end_station.head()"
   ]
  },
  {
   "cell_type": "code",
   "execution_count": 137,
   "metadata": {
    "collapsed": false
   },
   "outputs": [
    {
     "data": {
      "text/plain": [
       "(345, 4)"
      ]
     },
     "execution_count": 137,
     "metadata": {},
     "output_type": "execute_result"
    }
   ],
   "source": [
    "end_station = end_station.drop_duplicates()\n",
    "end_station.shape"
   ]
  },
  {
   "cell_type": "code",
   "execution_count": 138,
   "metadata": {
    "collapsed": false
   },
   "outputs": [
    {
     "data": {
      "text/html": [
       "<div>\n",
       "<table border=\"1\" class=\"dataframe\">\n",
       "  <thead>\n",
       "    <tr style=\"text-align: right;\">\n",
       "      <th></th>\n",
       "      <th>end station id</th>\n",
       "      <th>end station name</th>\n",
       "      <th>end station latitude</th>\n",
       "      <th>end station longitude</th>\n",
       "      <th>trip count</th>\n",
       "      <th>mean duration</th>\n",
       "    </tr>\n",
       "    <tr>\n",
       "      <th>end station id</th>\n",
       "      <th></th>\n",
       "      <th></th>\n",
       "      <th></th>\n",
       "      <th></th>\n",
       "      <th></th>\n",
       "      <th></th>\n",
       "    </tr>\n",
       "  </thead>\n",
       "  <tbody>\n",
       "    <tr>\n",
       "      <th>263</th>\n",
       "      <td>263</td>\n",
       "      <td>Elizabeth St &amp; Hester St</td>\n",
       "      <td>40.717290</td>\n",
       "      <td>-73.996375</td>\n",
       "      <td>27929</td>\n",
       "      <td>896.037739</td>\n",
       "    </tr>\n",
       "    <tr>\n",
       "      <th>259</th>\n",
       "      <td>259</td>\n",
       "      <td>South St &amp; Whitehall St</td>\n",
       "      <td>40.701221</td>\n",
       "      <td>-74.012342</td>\n",
       "      <td>17804</td>\n",
       "      <td>1227.872781</td>\n",
       "    </tr>\n",
       "    <tr>\n",
       "      <th>2022</th>\n",
       "      <td>2022</td>\n",
       "      <td>E 59 St &amp; Sutton Pl</td>\n",
       "      <td>40.758491</td>\n",
       "      <td>-73.959206</td>\n",
       "      <td>17141</td>\n",
       "      <td>1171.556910</td>\n",
       "    </tr>\n",
       "    <tr>\n",
       "      <th>526</th>\n",
       "      <td>526</td>\n",
       "      <td>E 33 St &amp; 5 Ave</td>\n",
       "      <td>40.747659</td>\n",
       "      <td>-73.984907</td>\n",
       "      <td>26781</td>\n",
       "      <td>727.753594</td>\n",
       "    </tr>\n",
       "    <tr>\n",
       "      <th>436</th>\n",
       "      <td>436</td>\n",
       "      <td>Hancock St &amp; Bedford Ave</td>\n",
       "      <td>40.682166</td>\n",
       "      <td>-73.953990</td>\n",
       "      <td>3474</td>\n",
       "      <td>1336.880541</td>\n",
       "    </tr>\n",
       "  </tbody>\n",
       "</table>\n",
       "</div>"
      ],
      "text/plain": [
       "                end station id          end station name  \\\n",
       "end station id                                             \n",
       "263                        263  Elizabeth St & Hester St   \n",
       "259                        259   South St & Whitehall St   \n",
       "2022                      2022       E 59 St & Sutton Pl   \n",
       "526                        526           E 33 St & 5 Ave   \n",
       "436                        436  Hancock St & Bedford Ave   \n",
       "\n",
       "                end station latitude  end station longitude  trip count  \\\n",
       "end station id                                                            \n",
       "263                        40.717290             -73.996375       27929   \n",
       "259                        40.701221             -74.012342       17804   \n",
       "2022                       40.758491             -73.959206       17141   \n",
       "526                        40.747659             -73.984907       26781   \n",
       "436                        40.682166             -73.953990        3474   \n",
       "\n",
       "                mean duration  \n",
       "end station id                 \n",
       "263                896.037739  \n",
       "259               1227.872781  \n",
       "2022              1171.556910  \n",
       "526                727.753594  \n",
       "436               1336.880541  "
      ]
     },
     "execution_count": 138,
     "metadata": {},
     "output_type": "execute_result"
    }
   ],
   "source": [
    "# Add trip counts and mean trip duration for each end station\n",
    "count_end_station = df.groupby('end station id')['end station id'].count()\n",
    "mean_end_station = df.groupby('end station id')['tripduration'].mean()\n",
    "end_station['trip count'] = count_end_station\n",
    "end_station['mean duration'] = mean_end_station\n",
    "end_station.head()"
   ]
  },
  {
   "cell_type": "code",
   "execution_count": 120,
   "metadata": {
    "collapsed": true
   },
   "outputs": [],
   "source": [
    "import folium\n",
    "from matplotlib.colors import Normalize, rgb2hex\n",
    "import matplotlib.cm as cm\n",
    "\n",
    "norm = Normalize(end_station['trip count'].min(), end_station['trip count'].max())\n",
    "# Get dark tileset from CartoBD (https://cartodb.com/basemaps)\n",
    "tileset = r'http://{s}.basemaps.cartocdn.com/dark_all/{z}/{x}/{y}.png'\n",
    "end_station_map = folium.Map(location = [40.74, -73.99], width = 400, height = 600,\n",
    "                             tiles = tileset,\n",
    "                             attr = '&copy; <a href=\"http://www.openstreetmap.org/copyright\">OpenStreetMap</a> contributors, &copy; <a href=\"http://cartodb.com/attributions\">CartoDB</a>',\n",
    "                             zoom_start = 12)\n",
    "\n",
    "for index, row in end_station.iterrows():\n",
    "    color = rgb2hex(cm.YlOrRd(norm(row['trip count'])))\n",
    "    end_station_map.circle_marker(location = [row['end station latitude'],\n",
    "                                              row['end station longitude']],\n",
    "                                  popup = row['end station name'],\n",
    "                                  radius = row['mean duration'] / 10,\n",
    "                                  fill_color = color, line_color = color)\n",
    "\n",
    "end_station_map.create_map(path = 'end_station_map.html')\n",
    "\n",
    "del end_station_map"
   ]
  },
  {
   "cell_type": "code",
   "execution_count": 16,
   "metadata": {
    "collapsed": false
   },
   "outputs": [
    {
     "data": {
      "text/html": [
       "\n",
       "        <iframe\n",
       "            width=\"400\"\n",
       "            height=\"600\"\n",
       "            src=\"end_station_map.html\"\n",
       "            frameborder=\"0\"\n",
       "            allowfullscreen\n",
       "        ></iframe>\n",
       "        "
      ],
      "text/plain": [
       "<IPython.lib.display.IFrame at 0x10720f7d0>"
      ]
     },
     "execution_count": 16,
     "metadata": {},
     "output_type": "execute_result"
    }
   ],
   "source": [
    "from IPython.display import IFrame\n",
    "IFrame('end_station_map.html', width = 400, height = 600)"
   ]
  },
  {
   "cell_type": "code",
   "execution_count": 139,
   "metadata": {
    "collapsed": false
   },
   "outputs": [
    {
     "data": {
      "image/png": "[encoded data removed]",
      "text/plain": [
       "<matplotlib.figure.Figure at 0x11da2a710>"
      ]
     },
     "metadata": {},
     "output_type": "display_data"
    }
   ],
   "source": [
    "# Make a color scale bar\n",
    "plt.rcParams.update({'font.size': 14})\n",
    "fig = plt.figure(figsize = (.5, 30))\n",
    "ax1 = fig.add_axes([0.05, 0.80, 0.9, 0.15])\n",
    "\n",
    "# Set the colormap and norm to correspond to the data\n",
    "cmap = mpl.cm.YlOrRd\n",
    "norm = mpl.colors.Normalize(end_station['trip count'].min(), end_station['trip count'].max())\n",
    "\n",
    "cb1 = mpl.colorbar.ColorbarBase(ax1, cmap = cmap, norm = norm, orientation = 'vertical')\n",
    "cb1.set_label('Trip counts')\n",
    "\n",
    "# Save as file\n",
    "from pylab import *\n",
    "savefig('color_scale_end_station.png', bbox_inches = 'tight')"
   ]
  },
  {
   "cell_type": "code",
   "execution_count": 144,
   "metadata": {
    "collapsed": false
   },
   "outputs": [
    {
     "data": {
      "text/plain": [
       "85494"
      ]
     },
     "execution_count": 144,
     "metadata": {},
     "output_type": "execute_result"
    }
   ],
   "source": [
    "end_station['trip count'].max()"
   ]
  },
  {
   "cell_type": "code",
   "execution_count": 145,
   "metadata": {
    "collapsed": false
   },
   "outputs": [
    {
     "data": {
      "text/plain": [
       "878"
      ]
     },
     "execution_count": 145,
     "metadata": {},
     "output_type": "execute_result"
    }
   ],
   "source": [
    "end_station['trip count'].min()"
   ]
  },
  {
   "cell_type": "code",
   "execution_count": 146,
   "metadata": {
    "collapsed": false
   },
   "outputs": [
    {
     "data": {
      "text/plain": [
       "65.375834719911254"
      ]
     },
     "execution_count": 146,
     "metadata": {},
     "output_type": "execute_result"
    }
   ],
   "source": [
    "end_station['mean duration'].max() / 60"
   ]
  },
  {
   "cell_type": "code",
   "execution_count": 147,
   "metadata": {
    "collapsed": false
   },
   "outputs": [
    {
     "data": {
      "text/plain": [
       "8.3333425714930929"
      ]
     },
     "execution_count": 147,
     "metadata": {},
     "output_type": "execute_result"
    }
   ],
   "source": [
    "end_station['mean duration'].min() / 60"
   ]
  },
  {
   "cell_type": "markdown",
   "metadata": {},
   "source": [
    "<a id='Gif_start'></a>\n",
    "## 4. Hourly changes in start station use (video)\n",
    "\n",
    "* Subset data to include only weekdays\n",
    "* Calculate station trip counts and mean duration for each hour in the day\n",
    "* Plot each hour separately and save a screenshot\n",
    "* Make dynamic visualization video of changes over the 24 hours\n",
    "\n",
    "The analysis is just like above, including preparing a simple dataframe including only the variables end station id, name and coordinates, and then dropping duplicates and adding variables with trip counts and mean duration for each station. The difference is that this is done on subsets including only weekdays and then further broken down by hour of the day."
   ]
  },
  {
   "cell_type": "code",
   "execution_count": 3,
   "metadata": {
    "collapsed": false
   },
   "outputs": [],
   "source": [
    "# Index by 'datetime64' data in 'starttime' variable and get subset of weekdays\n",
    "df.index = df['starttime']\n",
    "weekdays = df[df.index.weekday < 5]\n",
    "\n",
    "# There are some stations with relatively low trip counts and trip duration outliers\n",
    "# This inflates marker size to artificially big sizes\n",
    "# Simply removing trips with duration > 5 hours (18'000 seconds) takes care of this\n",
    "weekdays = weekdays.loc[weekdays.tripduration < 18000,:]"
   ]
  },
  {
   "cell_type": "code",
   "execution_count": 4,
   "metadata": {
    "collapsed": false
   },
   "outputs": [
    {
     "data": {
      "text/plain": [
       "(345, 4)"
      ]
     },
     "execution_count": 4,
     "metadata": {},
     "output_type": "execute_result"
    }
   ],
   "source": [
    "start_station = weekdays.iloc[:,[3, 4, 5, 6]]\n",
    "start_station.index = start_station['start station id']\n",
    "start_station = start_station.drop_duplicates()\n",
    "start_station.shape"
   ]
  },
  {
   "cell_type": "code",
   "execution_count": 5,
   "metadata": {
    "collapsed": false,
    "scrolled": false
   },
   "outputs": [
    {
     "name": "stdout",
     "output_type": "stream",
     "text": [
      "Calculating trip attributes for hourly subset:\n",
      "... 0 hrs\n",
      "... 1 hrs\n",
      "... 2 hrs\n",
      "... 3 hrs\n",
      "... 4 hrs\n",
      "... 5 hrs\n",
      "... 6 hrs\n",
      "... 7 hrs\n",
      "... 8 hrs\n",
      "... 9 hrs\n",
      "... 10 hrs\n",
      "... 11 hrs\n",
      "... 12 hrs\n",
      "... 13 hrs\n",
      "... 14 hrs\n",
      "... 15 hrs\n",
      "... 16 hrs\n",
      "... 17 hrs\n",
      "... 18 hrs\n",
      "... 19 hrs\n",
      "... 20 hrs\n",
      "... 21 hrs\n",
      "... 22 hrs\n",
      "... 23 hrs\n"
     ]
    }
   ],
   "source": [
    "# Loop through hourly subsets of the 'weekdays' dataFrame\n",
    "# Calculate trip counts and mean duration for each station\n",
    "# Add results to complete dataFrame and move on to next iteration\n",
    "print('Calculating trip attributes for hourly subset:')\n",
    "whole_day = pd.DataFrame()\n",
    "for hour in range(24):\n",
    "    print('... ' + str(hour) + ' hrs')\n",
    "    subset = weekdays.loc[weekdays.starttime.dt.hour == hour,:]\n",
    "    \n",
    "    trip_count = subset.groupby('start station id')['start station id'].count()\n",
    "    mean_duration = subset.groupby('start station id')['tripduration'].mean()\n",
    "    \n",
    "    start_station['trip count'] = trip_count\n",
    "    start_station['mean duration'] = mean_duration\n",
    "    start_station['hour'] = hour # Collect hour for easy subsetting below\n",
    "    \n",
    "    whole_day = pd.concat([whole_day, start_station], axis=0)"
   ]
  },
  {
   "cell_type": "markdown",
   "metadata": {},
   "source": [
    "The next step is generating the html files of the maps. The color scale representing trip counts will be defined from the complete dataset, including trip counts for every station for all 24 hours in the day: `whole_day` dataframe generated in the previous cell. This will allow vsualization of differences in citibike use between different hours.\n",
    "\n",
    "Turns out that using the minimum and maximum values directly puts most station marker colors close to the minimum (light yellow color). This likely means that a few outlier rows (trip counts for a few stations for a certain hours) have much higher trip counts than most other station-hour units. We can test this by looking at ranks of trip counts."
   ]
  },
  {
   "cell_type": "code",
   "execution_count": 103,
   "metadata": {
    "collapsed": false,
    "scrolled": false
   },
   "outputs": [
    {
     "data": {
      "text/plain": [
       "<matplotlib.text.Text at 0x11d158710>"
      ]
     },
     "execution_count": 103,
     "metadata": {},
     "output_type": "execute_result"
    },
    {
     "data": {
      "image/png": "[encoded data removed]",
      "text/plain": [
       "<matplotlib.figure.Figure at 0x11cfe2250>"
      ]
     },
     "metadata": {},
     "output_type": "display_data"
    }
   ],
   "source": [
    "plt.rcParams.update({'font.size': 16})\n",
    "whole_day['trip count'].hist(figsize = (8,5), bins = 15, alpha = 0.5, color = 'orange')\n",
    "plt.tick_params(axis = 'both', which = 'major', labelsize = 18)\n",
    "ax = plt.gca()\n",
    "#ax.set_axis_bgcolor('white')\n",
    "plt.title('Distribution of trip counts\\n')\n",
    "plt.xlabel('Trip counts')\n",
    "plt.ylabel('')"
   ]
  },
  {
   "cell_type": "code",
   "execution_count": 104,
   "metadata": {
    "collapsed": false
   },
   "outputs": [
    {
     "data": {
      "text/plain": [
       "18459.0"
      ]
     },
     "execution_count": 104,
     "metadata": {},
     "output_type": "execute_result"
    }
   ],
   "source": [
    "whole_day['trip count'].max()"
   ]
  },
  {
   "cell_type": "code",
   "execution_count": 99,
   "metadata": {
    "collapsed": false
   },
   "outputs": [
    {
     "data": {
      "text/html": [
       "<div>\n",
       "<table border=\"1\" class=\"dataframe\">\n",
       "  <thead>\n",
       "    <tr style=\"text-align: right;\">\n",
       "      <th></th>\n",
       "      <th>start station id</th>\n",
       "      <th>start station name</th>\n",
       "      <th>start station latitude</th>\n",
       "      <th>start station longitude</th>\n",
       "      <th>trip count</th>\n",
       "      <th>mean duration</th>\n",
       "      <th>hour</th>\n",
       "    </tr>\n",
       "    <tr>\n",
       "      <th>start station id</th>\n",
       "      <th></th>\n",
       "      <th></th>\n",
       "      <th></th>\n",
       "      <th></th>\n",
       "      <th></th>\n",
       "      <th></th>\n",
       "      <th></th>\n",
       "    </tr>\n",
       "  </thead>\n",
       "  <tbody>\n",
       "    <tr>\n",
       "      <th>521</th>\n",
       "      <td>521</td>\n",
       "      <td>8 Ave &amp; W 31 St</td>\n",
       "      <td>40.750450</td>\n",
       "      <td>-73.994811</td>\n",
       "      <td>18459</td>\n",
       "      <td>778.223143</td>\n",
       "      <td>8</td>\n",
       "    </tr>\n",
       "    <tr>\n",
       "      <th>521</th>\n",
       "      <td>521</td>\n",
       "      <td>8 Ave &amp; W 31 St</td>\n",
       "      <td>40.750450</td>\n",
       "      <td>-73.994811</td>\n",
       "      <td>17070</td>\n",
       "      <td>799.472408</td>\n",
       "      <td>7</td>\n",
       "    </tr>\n",
       "    <tr>\n",
       "      <th>519</th>\n",
       "      <td>519</td>\n",
       "      <td>E 42 St &amp; Vanderbilt Ave</td>\n",
       "      <td>40.752416</td>\n",
       "      <td>-73.978370</td>\n",
       "      <td>12266</td>\n",
       "      <td>748.583727</td>\n",
       "      <td>17</td>\n",
       "    </tr>\n",
       "    <tr>\n",
       "      <th>519</th>\n",
       "      <td>519</td>\n",
       "      <td>Pershing Square North</td>\n",
       "      <td>40.751873</td>\n",
       "      <td>-73.977706</td>\n",
       "      <td>12266</td>\n",
       "      <td>748.583727</td>\n",
       "      <td>17</td>\n",
       "    </tr>\n",
       "    <tr>\n",
       "      <th>519</th>\n",
       "      <td>519</td>\n",
       "      <td>Pershing Square N</td>\n",
       "      <td>40.751884</td>\n",
       "      <td>-73.977702</td>\n",
       "      <td>12266</td>\n",
       "      <td>748.583727</td>\n",
       "      <td>17</td>\n",
       "    </tr>\n",
       "    <tr>\n",
       "      <th>519</th>\n",
       "      <td>519</td>\n",
       "      <td>E 42 St &amp; Vanderbilt Ave</td>\n",
       "      <td>40.752416</td>\n",
       "      <td>-73.978370</td>\n",
       "      <td>11303</td>\n",
       "      <td>786.713262</td>\n",
       "      <td>18</td>\n",
       "    </tr>\n",
       "    <tr>\n",
       "      <th>519</th>\n",
       "      <td>519</td>\n",
       "      <td>Pershing Square North</td>\n",
       "      <td>40.751873</td>\n",
       "      <td>-73.977706</td>\n",
       "      <td>11303</td>\n",
       "      <td>786.713262</td>\n",
       "      <td>18</td>\n",
       "    </tr>\n",
       "    <tr>\n",
       "      <th>519</th>\n",
       "      <td>519</td>\n",
       "      <td>Pershing Square N</td>\n",
       "      <td>40.751884</td>\n",
       "      <td>-73.977702</td>\n",
       "      <td>11303</td>\n",
       "      <td>786.713262</td>\n",
       "      <td>18</td>\n",
       "    </tr>\n",
       "    <tr>\n",
       "      <th>521</th>\n",
       "      <td>521</td>\n",
       "      <td>8 Ave &amp; W 31 St</td>\n",
       "      <td>40.750450</td>\n",
       "      <td>-73.994811</td>\n",
       "      <td>10960</td>\n",
       "      <td>725.375730</td>\n",
       "      <td>9</td>\n",
       "    </tr>\n",
       "    <tr>\n",
       "      <th>519</th>\n",
       "      <td>519</td>\n",
       "      <td>Pershing Square N</td>\n",
       "      <td>40.751884</td>\n",
       "      <td>-73.977702</td>\n",
       "      <td>10296</td>\n",
       "      <td>776.540501</td>\n",
       "      <td>8</td>\n",
       "    </tr>\n",
       "    <tr>\n",
       "      <th>519</th>\n",
       "      <td>519</td>\n",
       "      <td>E 42 St &amp; Vanderbilt Ave</td>\n",
       "      <td>40.752416</td>\n",
       "      <td>-73.978370</td>\n",
       "      <td>10296</td>\n",
       "      <td>776.540501</td>\n",
       "      <td>8</td>\n",
       "    </tr>\n",
       "    <tr>\n",
       "      <th>519</th>\n",
       "      <td>519</td>\n",
       "      <td>Pershing Square North</td>\n",
       "      <td>40.751873</td>\n",
       "      <td>-73.977706</td>\n",
       "      <td>10296</td>\n",
       "      <td>776.540501</td>\n",
       "      <td>8</td>\n",
       "    </tr>\n",
       "    <tr>\n",
       "      <th>521</th>\n",
       "      <td>521</td>\n",
       "      <td>8 Ave &amp; W 31 St</td>\n",
       "      <td>40.750450</td>\n",
       "      <td>-73.994811</td>\n",
       "      <td>8632</td>\n",
       "      <td>699.003475</td>\n",
       "      <td>6</td>\n",
       "    </tr>\n",
       "    <tr>\n",
       "      <th>318</th>\n",
       "      <td>318</td>\n",
       "      <td>E 43 St &amp; Vanderbilt Ave</td>\n",
       "      <td>40.753202</td>\n",
       "      <td>-73.977987</td>\n",
       "      <td>8421</td>\n",
       "      <td>705.967225</td>\n",
       "      <td>17</td>\n",
       "    </tr>\n",
       "    <tr>\n",
       "      <th>519</th>\n",
       "      <td>519</td>\n",
       "      <td>Pershing Square North</td>\n",
       "      <td>40.751873</td>\n",
       "      <td>-73.977706</td>\n",
       "      <td>8062</td>\n",
       "      <td>802.896304</td>\n",
       "      <td>7</td>\n",
       "    </tr>\n",
       "    <tr>\n",
       "      <th>519</th>\n",
       "      <td>519</td>\n",
       "      <td>E 42 St &amp; Vanderbilt Ave</td>\n",
       "      <td>40.752416</td>\n",
       "      <td>-73.978370</td>\n",
       "      <td>8062</td>\n",
       "      <td>802.896304</td>\n",
       "      <td>7</td>\n",
       "    </tr>\n",
       "    <tr>\n",
       "      <th>519</th>\n",
       "      <td>519</td>\n",
       "      <td>Pershing Square N</td>\n",
       "      <td>40.751884</td>\n",
       "      <td>-73.977702</td>\n",
       "      <td>8062</td>\n",
       "      <td>802.896304</td>\n",
       "      <td>7</td>\n",
       "    </tr>\n",
       "    <tr>\n",
       "      <th>497</th>\n",
       "      <td>497</td>\n",
       "      <td>E 17 St &amp; Broadway</td>\n",
       "      <td>40.737050</td>\n",
       "      <td>-73.990093</td>\n",
       "      <td>7570</td>\n",
       "      <td>687.472523</td>\n",
       "      <td>17</td>\n",
       "    </tr>\n",
       "    <tr>\n",
       "      <th>497</th>\n",
       "      <td>497</td>\n",
       "      <td>E 17 St &amp; Broadway</td>\n",
       "      <td>40.737050</td>\n",
       "      <td>-73.990093</td>\n",
       "      <td>7298</td>\n",
       "      <td>729.963963</td>\n",
       "      <td>18</td>\n",
       "    </tr>\n",
       "    <tr>\n",
       "      <th>318</th>\n",
       "      <td>318</td>\n",
       "      <td>E 43 St &amp; Vanderbilt Ave</td>\n",
       "      <td>40.753202</td>\n",
       "      <td>-73.977987</td>\n",
       "      <td>7124</td>\n",
       "      <td>739.343908</td>\n",
       "      <td>8</td>\n",
       "    </tr>\n",
       "  </tbody>\n",
       "</table>\n",
       "</div>"
      ],
      "text/plain": [
       "                  start station id        start station name  \\\n",
       "start station id                                               \n",
       "521                            521           8 Ave & W 31 St   \n",
       "521                            521           8 Ave & W 31 St   \n",
       "519                            519  E 42 St & Vanderbilt Ave   \n",
       "519                            519     Pershing Square North   \n",
       "519                            519         Pershing Square N   \n",
       "519                            519  E 42 St & Vanderbilt Ave   \n",
       "519                            519     Pershing Square North   \n",
       "519                            519         Pershing Square N   \n",
       "521                            521           8 Ave & W 31 St   \n",
       "519                            519         Pershing Square N   \n",
       "519                            519  E 42 St & Vanderbilt Ave   \n",
       "519                            519     Pershing Square North   \n",
       "521                            521           8 Ave & W 31 St   \n",
       "318                            318  E 43 St & Vanderbilt Ave   \n",
       "519                            519     Pershing Square North   \n",
       "519                            519  E 42 St & Vanderbilt Ave   \n",
       "519                            519         Pershing Square N   \n",
       "497                            497        E 17 St & Broadway   \n",
       "497                            497        E 17 St & Broadway   \n",
       "318                            318  E 43 St & Vanderbilt Ave   \n",
       "\n",
       "                  start station latitude  start station longitude  trip count  \\\n",
       "start station id                                                                \n",
       "521                            40.750450               -73.994811       18459   \n",
       "521                            40.750450               -73.994811       17070   \n",
       "519                            40.752416               -73.978370       12266   \n",
       "519                            40.751873               -73.977706       12266   \n",
       "519                            40.751884               -73.977702       12266   \n",
       "519                            40.752416               -73.978370       11303   \n",
       "519                            40.751873               -73.977706       11303   \n",
       "519                            40.751884               -73.977702       11303   \n",
       "521                            40.750450               -73.994811       10960   \n",
       "519                            40.751884               -73.977702       10296   \n",
       "519                            40.752416               -73.978370       10296   \n",
       "519                            40.751873               -73.977706       10296   \n",
       "521                            40.750450               -73.994811        8632   \n",
       "318                            40.753202               -73.977987        8421   \n",
       "519                            40.751873               -73.977706        8062   \n",
       "519                            40.752416               -73.978370        8062   \n",
       "519                            40.751884               -73.977702        8062   \n",
       "497                            40.737050               -73.990093        7570   \n",
       "497                            40.737050               -73.990093        7298   \n",
       "318                            40.753202               -73.977987        7124   \n",
       "\n",
       "                  mean duration  hour  \n",
       "start station id                       \n",
       "521                  778.223143     8  \n",
       "521                  799.472408     7  \n",
       "519                  748.583727    17  \n",
       "519                  748.583727    17  \n",
       "519                  748.583727    17  \n",
       "519                  786.713262    18  \n",
       "519                  786.713262    18  \n",
       "519                  786.713262    18  \n",
       "521                  725.375730     9  \n",
       "519                  776.540501     8  \n",
       "519                  776.540501     8  \n",
       "519                  776.540501     8  \n",
       "521                  699.003475     6  \n",
       "318                  705.967225    17  \n",
       "519                  802.896304     7  \n",
       "519                  802.896304     7  \n",
       "519                  802.896304     7  \n",
       "497                  687.472523    17  \n",
       "497                  729.963963    18  \n",
       "318                  739.343908     8  "
      ]
     },
     "execution_count": 99,
     "metadata": {},
     "output_type": "execute_result"
    }
   ],
   "source": [
    "trip_count_rank = whole_day.sort(columns = 'trip count', ascending = False)\n",
    "trip_count_rank.head(20)"
   ]
  },
  {
   "cell_type": "markdown",
   "metadata": {},
   "source": [
    "Even though the maximum trip count is **18459**, the histogram clearly shows that such high trip counts are extremely rare. The ranked dataframe printed above shows those rare cases in which trip counts are so high. In fact, going back to the histogram we can see that the frequency of trip counts only gets any relevant at counts below **5000**. This way, using this value to define the maximum for the color scale to use in the map will give us a much more effective visualization."
   ]
  },
  {
   "cell_type": "code",
   "execution_count": 106,
   "metadata": {
    "collapsed": false
   },
   "outputs": [
    {
     "name": "stdout",
     "output_type": "stream",
     "text": [
      "Building map for hourly subset:\n",
      "... 0 hrs\n",
      "... 1 hrs\n",
      "... 2 hrs\n",
      "... 3 hrs\n",
      "... 4 hrs\n",
      "... 5 hrs\n",
      "... 6 hrs\n",
      "... 7 hrs\n",
      "... 8 hrs\n",
      "... 9 hrs\n",
      "... 10 hrs\n",
      "... 11 hrs\n",
      "... 12 hrs\n",
      "... 13 hrs\n",
      "... 14 hrs\n",
      "... 15 hrs\n",
      "... 16 hrs\n",
      "... 17 hrs\n",
      "... 18 hrs\n",
      "... 19 hrs\n",
      "... 20 hrs\n",
      "... 21 hrs\n",
      "... 22 hrs\n",
      "... 23 hrs\n"
     ]
    }
   ],
   "source": [
    "import folium\n",
    "from matplotlib.colors import Normalize, rgb2hex\n",
    "import matplotlib.cm as cm\n",
    "\n",
    "# Create a folium map html file for each hour\n",
    "print('Building map for hourly subset:')\n",
    "norm = Normalize(whole_day['trip count'].min(), 5000)\n",
    "\n",
    "for hour in range(24):\n",
    "    print('... ' + str(hour) + ' hrs')\n",
    "    whole_day_sub = whole_day.loc[whole_day['hour'] == hour, ]\n",
    "    \n",
    "    # Get dark tileset from CartBD (https://cartodb.com/basemaps)\n",
    "    tileset = r'http://{s}.basemaps.cartocdn.com/dark_all/{z}/{x}/{y}.png'\n",
    "    start_station_map = folium.Map(location = [40.74, -73.99], width = 400, height = 600,\n",
    "                                  tiles = tileset,\n",
    "                                  attr = '&copy; <a href=\"http://www.openstreetmap.org/copyright\">OpenStreetMap</a> contributors, &copy; <a href=\"http://cartodb.com/attributions\">CartoDB</a>',\n",
    "                                  zoom_start = 12)\n",
    "    \n",
    "    for index, row in whole_day_sub.iterrows():\n",
    "        color = rgb2hex(cm.YlOrRd(norm(row['trip count'])))\n",
    "        start_station_map.circle_marker(location = [row['start station latitude'],\n",
    "                                                    row['start station longitude']],\n",
    "                                        popup = row['start station name'],\n",
    "                                        radius = row['mean duration'] / 8,\n",
    "                                        fill_color = color, line_color = color)\n",
    "        \n",
    "    start_station_map.create_map(path = str(hour) + '_start_station_map.html')"
   ]
  },
  {
   "cell_type": "code",
   "execution_count": 142,
   "metadata": {
    "collapsed": false
   },
   "outputs": [
    {
     "data": {
      "text/html": [
       "\n",
       "        <iframe\n",
       "            width=\"400\"\n",
       "            height=\"600\"\n",
       "            src=\"0_start_station_map.html\"\n",
       "            frameborder=\"0\"\n",
       "            allowfullscreen\n",
       "        ></iframe>\n",
       "        "
      ],
      "text/plain": [
       "<IPython.lib.display.IFrame at 0x11dce9750>"
      ]
     },
     "execution_count": 142,
     "metadata": {},
     "output_type": "execute_result"
    }
   ],
   "source": [
    "# Check one example of the generated html files\n",
    "from IPython.display import IFrame\n",
    "IFrame('0_start_station_map.html', width = 400, height = 600)"
   ]
  },
  {
   "cell_type": "code",
   "execution_count": 6,
   "metadata": {
    "collapsed": false
   },
   "outputs": [
    {
     "data": {
      "image/png": "[encoded data removed]",
      "text/plain": [
       "<matplotlib.figure.Figure at 0x132d84710>"
      ]
     },
     "metadata": {},
     "output_type": "display_data"
    }
   ],
   "source": [
    "# Make a color scale bar\n",
    "plt.rcParams.update({'font.size': 14})\n",
    "fig = plt.figure(figsize = (.5, 30))\n",
    "ax1 = fig.add_axes([0.05, 0.80, 0.9, 0.15])\n",
    "\n",
    "# Set the colormap and norm to correspond to the data\n",
    "cmap = mpl.cm.YlOrRd\n",
    "norm = mpl.colors.Normalize(whole_day['trip count'].min(), 5000)\n",
    "\n",
    "cb1 = mpl.colorbar.ColorbarBase(ax1, cmap = cmap, norm = norm, orientation = 'vertical')\n",
    "cb1.set_label('Trip counts / hour')\n",
    "\n",
    "# Save as file\n",
    "from pylab import *\n",
    "savefig('color_scale_start_station_hourly.png', bbox_inches = 'tight')"
   ]
  },
  {
   "cell_type": "markdown",
   "metadata": {},
   "source": [
    "Now that I have the html maps for each hour, I can make a video of the transitions, as a rather low tech, non-interactive, dynamic visualization of the changes in citibike station use in differents times of weekdays. A simple way to do it is to save screenshots of the maps and use those to make a movie using Apple's iMovie."
   ]
  }
 ],
 "metadata": {
  "kernelspec": {
   "display_name": "Python 2",
   "language": "python",
   "name": "python2"
  },
  "language_info": {
   "codemirror_mode": {
    "name": "ipython",
    "version": 2
   },
   "file_extension": ".py",
   "mimetype": "text/x-python",
   "name": "python",
   "nbconvert_exporter": "python",
   "pygments_lexer": "ipython2",
   "version": "2.7.10"
  }
 },
 "nbformat": 4,
 "nbformat_minor": 0
}
